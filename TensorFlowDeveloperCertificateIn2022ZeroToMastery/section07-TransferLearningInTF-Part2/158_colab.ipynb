{
  "nbformat": 4,
  "nbformat_minor": 0,
  "metadata": {
    "colab": {
      "name": "158-colab.ipynb",
      "provenance": [],
      "collapsed_sections": []
    },
    "kernelspec": {
      "name": "python3",
      "display_name": "Python 3"
    },
    "language_info": {
      "name": "python"
    },
    "accelerator": "GPU",
    "gpuClass": "standard"
  },
  "cells": [
    {
      "cell_type": "markdown",
      "source": [
        "# Transfer Learning with TensorFlow - Part 2: Fine-tuning\n",
        "\n",
        "In the previous notebook, we covered transfer learning feature extraction, now it's time to learn about a new kind of transfer learning: fine-tuning."
      ],
      "metadata": {
        "id": "piotxpr_YeEl"
      }
    },
    {
      "cell_type": "code",
      "source": [
        "# Check if we're using a GPU\n",
        "!nvidia-smi"
      ],
      "metadata": {
        "colab": {
          "base_uri": "https://localhost:8080/"
        },
        "id": "li8VHgQDY-9R",
        "outputId": "2a251c98-16a6-4f0b-c6d4-7fd586ceb705"
      },
      "execution_count": 1,
      "outputs": [
        {
          "output_type": "stream",
          "name": "stdout",
          "text": [
            "Sun Aug 28 10:26:17 2022       \n",
            "+-----------------------------------------------------------------------------+\n",
            "| NVIDIA-SMI 460.32.03    Driver Version: 460.32.03    CUDA Version: 11.2     |\n",
            "|-------------------------------+----------------------+----------------------+\n",
            "| GPU  Name        Persistence-M| Bus-Id        Disp.A | Volatile Uncorr. ECC |\n",
            "| Fan  Temp  Perf  Pwr:Usage/Cap|         Memory-Usage | GPU-Util  Compute M. |\n",
            "|                               |                      |               MIG M. |\n",
            "|===============================+======================+======================|\n",
            "|   0  Tesla T4            Off  | 00000000:00:04.0 Off |                    0 |\n",
            "| N/A   55C    P8    10W /  70W |      0MiB / 15109MiB |      0%      Default |\n",
            "|                               |                      |                  N/A |\n",
            "+-------------------------------+----------------------+----------------------+\n",
            "                                                                               \n",
            "+-----------------------------------------------------------------------------+\n",
            "| Processes:                                                                  |\n",
            "|  GPU   GI   CI        PID   Type   Process name                  GPU Memory |\n",
            "|        ID   ID                                                   Usage      |\n",
            "|=============================================================================|\n",
            "|  No running processes found                                                 |\n",
            "+-----------------------------------------------------------------------------+\n"
          ]
        }
      ]
    },
    {
      "cell_type": "markdown",
      "source": [
        "## Creating helper functions\n",
        "\n",
        "IN the previous notebooks, we're created a bunch of helper functions. Now we could rewrite them all, however, this is tedious.\n",
        "\n",
        "So, it's a good idea to put functions you'll want to use again in a script you can download and import into your notebooks (or elsewhere).\n",
        "\n",
        "\n",
        "We're done this for some of the functions we're used previously here:\n",
        "\n",
        "https://raw.githubusercontent.com/mrdbourke/tensorflow-deep-learning/main/extras/helper_functions.py"
      ],
      "metadata": {
        "id": "-Vq-Kf4GZKmW"
      }
    },
    {
      "cell_type": "code",
      "source": [
        "!wget https://raw.githubusercontent.com/mrdbourke/tensorflow-deep-learning/main/extras/helper_functions.py"
      ],
      "metadata": {
        "colab": {
          "base_uri": "https://localhost:8080/"
        },
        "id": "i_FhjzxWZse0",
        "outputId": "9289c0e3-15d1-47ae-b2c7-ac92608aefd3"
      },
      "execution_count": 2,
      "outputs": [
        {
          "output_type": "stream",
          "name": "stdout",
          "text": [
            "--2022-08-28 10:26:17--  https://raw.githubusercontent.com/mrdbourke/tensorflow-deep-learning/main/extras/helper_functions.py\n",
            "Resolving raw.githubusercontent.com (raw.githubusercontent.com)... 185.199.108.133, 185.199.109.133, 185.199.110.133, ...\n",
            "Connecting to raw.githubusercontent.com (raw.githubusercontent.com)|185.199.108.133|:443... connected.\n",
            "HTTP request sent, awaiting response... 200 OK\n",
            "Length: 10246 (10K) [text/plain]\n",
            "Saving to: ‘helper_functions.py’\n",
            "\n",
            "helper_functions.py 100%[===================>]  10.01K  --.-KB/s    in 0s      \n",
            "\n",
            "2022-08-28 10:26:17 (103 MB/s) - ‘helper_functions.py’ saved [10246/10246]\n",
            "\n"
          ]
        }
      ]
    },
    {
      "cell_type": "code",
      "source": [
        "# Import hepler functions we're going to use in this notebook\n",
        "from helper_functions import create_tensorboard_callback, plot_loss_curves, unzip_data, walk_through_dir"
      ],
      "metadata": {
        "id": "9dPwbGWHalmn"
      },
      "execution_count": 3,
      "outputs": []
    },
    {
      "cell_type": "markdown",
      "source": [
        "🔑 **Note:** If you're running this notebook in Google Colab, when it times out Colab will delete `helper_functions.py`, so you'll have to redownload it if you want access to your helper functions."
      ],
      "metadata": {
        "id": "zVRL8UPabjoJ"
      }
    },
    {
      "cell_type": "markdown",
      "source": [
        "## Let's get some data\n",
        "\n",
        "This time we're going to see how we can use the pretrained models wthin `tf.keras,applications` and apply them to our own problem (recognizing images of food).\n",
        "\n",
        "Link: https://www.tensorflow.org/api_docs/python/tf/keras/applications"
      ],
      "metadata": {
        "id": "uCRXTtFIcNOF"
      }
    },
    {
      "cell_type": "code",
      "source": [
        "# Get 10% of training data of 10 classes of Food101\n",
        "\n",
        "! wget https://storage.googleapis.com/ztm_tf_course/food_vision/10_food_classes_10_percent.zip\n",
        "\n",
        "unzip_data(\"10_food_classes_10_percent.zip\")"
      ],
      "metadata": {
        "colab": {
          "base_uri": "https://localhost:8080/"
        },
        "id": "Kq_lz6b5dXq4",
        "outputId": "2851de3a-0f60-4c3a-fc73-6fbd4a26ef8e"
      },
      "execution_count": 4,
      "outputs": [
        {
          "output_type": "stream",
          "name": "stdout",
          "text": [
            "--2022-08-28 10:26:21--  https://storage.googleapis.com/ztm_tf_course/food_vision/10_food_classes_10_percent.zip\n",
            "Resolving storage.googleapis.com (storage.googleapis.com)... 64.233.182.128, 173.194.194.128, 173.194.195.128, ...\n",
            "Connecting to storage.googleapis.com (storage.googleapis.com)|64.233.182.128|:443... connected.\n",
            "HTTP request sent, awaiting response... 200 OK\n",
            "Length: 168546183 (161M) [application/zip]\n",
            "Saving to: ‘10_food_classes_10_percent.zip’\n",
            "\n",
            "10_food_classes_10_ 100%[===================>] 160.74M   211MB/s    in 0.8s    \n",
            "\n",
            "2022-08-28 10:26:21 (211 MB/s) - ‘10_food_classes_10_percent.zip’ saved [168546183/168546183]\n",
            "\n"
          ]
        }
      ]
    },
    {
      "cell_type": "code",
      "source": [
        "# Check out how many images and subdirectories are in our dataset\n",
        "walk_through_dir(\"10_food_classes_10_percent\")"
      ],
      "metadata": {
        "colab": {
          "base_uri": "https://localhost:8080/"
        },
        "id": "d_TAvRKDeqsC",
        "outputId": "c44d0c92-648a-47ed-f24f-760807653320"
      },
      "execution_count": 5,
      "outputs": [
        {
          "output_type": "stream",
          "name": "stdout",
          "text": [
            "There are 2 directories and 0 images in '10_food_classes_10_percent'.\n",
            "There are 10 directories and 0 images in '10_food_classes_10_percent/test'.\n",
            "There are 0 directories and 250 images in '10_food_classes_10_percent/test/steak'.\n",
            "There are 0 directories and 250 images in '10_food_classes_10_percent/test/ramen'.\n",
            "There are 0 directories and 250 images in '10_food_classes_10_percent/test/fried_rice'.\n",
            "There are 0 directories and 250 images in '10_food_classes_10_percent/test/chicken_curry'.\n",
            "There are 0 directories and 250 images in '10_food_classes_10_percent/test/chicken_wings'.\n",
            "There are 0 directories and 250 images in '10_food_classes_10_percent/test/grilled_salmon'.\n",
            "There are 0 directories and 250 images in '10_food_classes_10_percent/test/hamburger'.\n",
            "There are 0 directories and 250 images in '10_food_classes_10_percent/test/sushi'.\n",
            "There are 0 directories and 250 images in '10_food_classes_10_percent/test/pizza'.\n",
            "There are 0 directories and 250 images in '10_food_classes_10_percent/test/ice_cream'.\n",
            "There are 10 directories and 0 images in '10_food_classes_10_percent/train'.\n",
            "There are 0 directories and 75 images in '10_food_classes_10_percent/train/steak'.\n",
            "There are 0 directories and 75 images in '10_food_classes_10_percent/train/ramen'.\n",
            "There are 0 directories and 75 images in '10_food_classes_10_percent/train/fried_rice'.\n",
            "There are 0 directories and 75 images in '10_food_classes_10_percent/train/chicken_curry'.\n",
            "There are 0 directories and 75 images in '10_food_classes_10_percent/train/chicken_wings'.\n",
            "There are 0 directories and 75 images in '10_food_classes_10_percent/train/grilled_salmon'.\n",
            "There are 0 directories and 75 images in '10_food_classes_10_percent/train/hamburger'.\n",
            "There are 0 directories and 75 images in '10_food_classes_10_percent/train/sushi'.\n",
            "There are 0 directories and 75 images in '10_food_classes_10_percent/train/pizza'.\n",
            "There are 0 directories and 75 images in '10_food_classes_10_percent/train/ice_cream'.\n"
          ]
        }
      ]
    },
    {
      "cell_type": "code",
      "source": [
        "# Create training and test directory paths\n",
        "train_dir = \"10_food_classes_10_percent/train/\"\n",
        "test_dir = \"10_food_classes_10_percent/test/\""
      ],
      "metadata": {
        "id": "5UP2o4bRe6Vp"
      },
      "execution_count": 6,
      "outputs": []
    },
    {
      "cell_type": "code",
      "source": [
        "import tensorflow as tf "
      ],
      "metadata": {
        "id": "dJpzUFCyU2x6"
      },
      "execution_count": 8,
      "outputs": []
    },
    {
      "cell_type": "code",
      "source": [
        "IMG_SIZE=(224, 224)\n",
        "BATCH_SIZE = 32\n",
        "train_data_10_percent = tf.keras.preprocessing.image_dataset_from_directory(directory=train_dir,\n",
        "                                                                            image_size=IMG_SIZE,\n",
        "                                                                            label_mode=\"categorical\",\n",
        "                                                                            batch_size=BATCH_SIZE)\n",
        "test_data = tf.keras.preprocessing.image_dataset_from_directory(directory=test_dir,\n",
        "                                                                image_size=IMG_SIZE,\n",
        "                                                                label_mode = \"categorical\",\n",
        "                                                                batch_size=BATCH_SIZE)"
      ],
      "metadata": {
        "colab": {
          "base_uri": "https://localhost:8080/"
        },
        "id": "auJb2Qxp_jIB",
        "outputId": "4005ba89-b71e-4720-cc6e-e5e2c0687225"
      },
      "execution_count": 9,
      "outputs": [
        {
          "output_type": "stream",
          "name": "stdout",
          "text": [
            "Found 750 files belonging to 10 classes.\n",
            "Found 2500 files belonging to 10 classes.\n"
          ]
        }
      ]
    },
    {
      "cell_type": "code",
      "source": [
        "train_data_10_percent"
      ],
      "metadata": {
        "colab": {
          "base_uri": "https://localhost:8080/"
        },
        "id": "q0IASHgwA8kc",
        "outputId": "0e2abc9e-bea0-4af0-b4b7-0e58bb0f560c"
      },
      "execution_count": 10,
      "outputs": [
        {
          "output_type": "execute_result",
          "data": {
            "text/plain": [
              "<BatchDataset element_spec=(TensorSpec(shape=(None, 224, 224, 3), dtype=tf.float32, name=None), TensorSpec(shape=(None, 10), dtype=tf.float32, name=None))>"
            ]
          },
          "metadata": {},
          "execution_count": 10
        }
      ]
    },
    {
      "cell_type": "code",
      "source": [
        "# Check out the class names of our dataset\n",
        "train_data_10_percent.class_names"
      ],
      "metadata": {
        "colab": {
          "base_uri": "https://localhost:8080/"
        },
        "id": "K_mLq4xZBE3W",
        "outputId": "30e8daa7-3933-41a0-897d-4a8cdf9bad20"
      },
      "execution_count": 11,
      "outputs": [
        {
          "output_type": "execute_result",
          "data": {
            "text/plain": [
              "['chicken_curry',\n",
              " 'chicken_wings',\n",
              " 'fried_rice',\n",
              " 'grilled_salmon',\n",
              " 'hamburger',\n",
              " 'ice_cream',\n",
              " 'pizza',\n",
              " 'ramen',\n",
              " 'steak',\n",
              " 'sushi']"
            ]
          },
          "metadata": {},
          "execution_count": 11
        }
      ]
    },
    {
      "cell_type": "code",
      "source": [
        "# See an example of a batch of data\n",
        "for images, labels in train_data_10_percent.take(1):\n",
        "  print(images, labels)"
      ],
      "metadata": {
        "colab": {
          "base_uri": "https://localhost:8080/"
        },
        "id": "UeMVDqJfBuf7",
        "outputId": "81951ab6-8704-4cbc-cfd1-ea10b07d882c"
      },
      "execution_count": 12,
      "outputs": [
        {
          "output_type": "stream",
          "name": "stdout",
          "text": [
            "tf.Tensor(\n",
            "[[[[6.75561218e+01 1.51989803e+01 2.75510192e+00]\n",
            "   [7.28826523e+01 2.05255108e+01 6.93367386e+00]\n",
            "   [7.54948959e+01 2.59285717e+01 1.10714283e+01]\n",
            "   ...\n",
            "   [7.05000229e+01 3.92854977e+00 0.00000000e+00]\n",
            "   [7.21428680e+01 3.14287019e+00 0.00000000e+00]\n",
            "   [7.35867233e+01 4.58672237e+00 0.00000000e+00]]\n",
            "\n",
            "  [[6.45510178e+01 6.19387770e+00 2.55101882e-02]\n",
            "   [6.33622437e+01 5.00510216e+00 0.00000000e+00]\n",
            "   [6.28316307e+01 6.21428585e+00 0.00000000e+00]\n",
            "   ...\n",
            "   [7.34847412e+01 6.91326714e+00 1.98959351e-01]\n",
            "   [7.60000000e+01 7.00000000e+00 0.00000000e+00]\n",
            "   [7.45458832e+01 5.54588127e+00 0.00000000e+00]]\n",
            "\n",
            "  [[7.56428604e+01 7.92857170e+00 2.20918393e+00]\n",
            "   [7.04846878e+01 4.22959185e+00 0.00000000e+00]\n",
            "   [7.15459213e+01 6.04591846e+00 0.00000000e+00]\n",
            "   ...\n",
            "   [7.33112717e+01 5.16837215e+00 0.00000000e+00]\n",
            "   [7.59438705e+01 6.94386721e+00 0.00000000e+00]\n",
            "   [7.32856445e+01 2.71421576e+00 0.00000000e+00]]\n",
            "\n",
            "  ...\n",
            "\n",
            "  [[1.64647949e+02 2.28622398e+01 2.86223936e+00]\n",
            "   [1.63770401e+02 2.19846935e+01 1.98469329e+00]\n",
            "   [1.64357132e+02 2.23112144e+01 3.29081941e+00]\n",
            "   ...\n",
            "   [1.68974442e+02 1.18520107e+01 2.63777733e+00]\n",
            "   [1.66801010e+02 1.28010149e+01 2.80101514e+00]\n",
            "   [1.67775513e+02 1.57755060e+01 4.77550650e+00]]\n",
            "\n",
            "  [[1.62163239e+02 2.11632423e+01 1.16324270e+00]\n",
            "   [1.60142807e+02 1.91428051e+01 1.37721494e-01]\n",
            "   [1.59270340e+02 1.78417702e+01 2.55039752e-01]\n",
            "   ...\n",
            "   [1.64484634e+02 7.69890213e+00 0.00000000e+00]\n",
            "   [1.66071442e+02 1.20714417e+01 2.07144165e+00]\n",
            "   [1.63453979e+02 1.14539728e+01 7.85644531e-01]]\n",
            "\n",
            "  [[1.62658157e+02 2.16581573e+01 1.88775170e+00]\n",
            "   [1.57331635e+02 1.63316364e+01 0.00000000e+00]\n",
            "   [1.56846939e+02 1.54183702e+01 0.00000000e+00]\n",
            "   ...\n",
            "   [1.69224487e+02 1.24387531e+01 2.79596138e+00]\n",
            "   [1.64622437e+02 1.06224413e+01 7.14294434e-01]\n",
            "   [1.62816345e+02 1.08163424e+01 2.29582191e-01]]]\n",
            "\n",
            "\n",
            " [[[1.51994904e+02 1.03994904e+02 1.89948978e+01]\n",
            "   [1.46545914e+02 1.00545921e+02 1.25459175e+01]\n",
            "   [1.49387756e+02 1.03387756e+02 1.53877535e+01]\n",
            "   ...\n",
            "   [9.32192535e+01 9.10815125e+01 1.53774986e+01]\n",
            "   [8.15866089e+01 8.33927460e+01 7.09683895e+00]\n",
            "   [8.09031296e+01 8.39031296e+01 3.36228728e+00]]\n",
            "\n",
            "  [[1.58816330e+02 1.12816322e+02 2.48163261e+01]\n",
            "   [1.54499985e+02 1.08500000e+02 2.04999981e+01]\n",
            "   [1.56403046e+02 1.10617348e+02 2.19744854e+01]\n",
            "   ...\n",
            "   [1.09525360e+02 1.06183571e+02 2.68978958e+01]\n",
            "   [9.51120453e+01 9.35253448e+01 1.62549019e+01]\n",
            "   [8.02756348e+01 8.30359039e+01 7.09245980e-01]]\n",
            "\n",
            "  [[1.57801025e+02 1.11801018e+02 2.38010197e+01]\n",
            "   [1.58214279e+02 1.12428574e+02 2.37857132e+01]\n",
            "   [1.60255096e+02 1.15346939e+02 2.43010178e+01]\n",
            "   ...\n",
            "   [1.33377197e+02 1.28162933e+02 4.65201378e+01]\n",
            "   [1.09887840e+02 1.07245010e+02 2.56582451e+01]\n",
            "   [9.57136917e+01 9.65556107e+01 9.87191296e+00]]\n",
            "\n",
            "  ...\n",
            "\n",
            "  [[1.22418358e+02 9.69898300e+01 1.52040968e+01]\n",
            "   [1.09907974e+02 8.49079742e+01 2.90797639e+00]\n",
            "   [9.82447433e+01 7.32447433e+01 0.00000000e+00]\n",
            "   ...\n",
            "   [2.00117538e+02 1.66454239e+02 3.30716248e+01]\n",
            "   [2.06484726e+02 1.73683685e+02 4.03980370e+01]\n",
            "   [2.07433884e+02 1.74433884e+02 4.30053635e+01]]\n",
            "\n",
            "  [[9.43879929e+01 6.93879929e+01 3.21487457e-01]\n",
            "   [1.10525581e+02 8.55255814e+01 2.18883681e+00]\n",
            "   [1.08959282e+02 8.46021347e+01 1.97966623e+00]\n",
            "   ...\n",
            "   [1.99678497e+02 1.64035706e+02 3.62499733e+01]\n",
            "   [2.06418442e+02 1.71418442e+02 4.36940002e+01]\n",
            "   [2.12540665e+02 1.78540665e+02 5.25406609e+01]]\n",
            "\n",
            "  [[1.28990067e+02 1.03990059e+02 1.99900608e+01]\n",
            "   [1.21633408e+02 9.66334076e+01 1.26334066e+01]\n",
            "   [1.24398750e+02 1.00041611e+02 1.56130352e+01]\n",
            "   ...\n",
            "   [2.05040634e+02 1.69397842e+02 4.36121063e+01]\n",
            "   [2.08188904e+02 1.73188904e+02 4.71889000e+01]\n",
            "   [2.14341690e+02 1.80341690e+02 5.63416862e+01]]]\n",
            "\n",
            "\n",
            " [[[5.18061218e+01 4.08061218e+01 2.08061218e+01]\n",
            "   [5.15969391e+01 4.05969391e+01 2.05969391e+01]\n",
            "   [6.20969353e+01 4.86683655e+01 3.12397938e+01]\n",
            "   ...\n",
            "   [2.03489639e+02 1.97071213e+02 1.77933472e+02]\n",
            "   [1.89219299e+02 1.78219299e+02 1.56882553e+02]\n",
            "   [1.75326385e+02 1.63326385e+02 1.41326385e+02]]\n",
            "\n",
            "  [[6.22346954e+01 5.12346954e+01 3.12346954e+01]\n",
            "   [4.19234657e+01 3.09234657e+01 1.09234657e+01]\n",
            "   [5.91785736e+01 4.57500000e+01 2.83214302e+01]\n",
            "   ...\n",
            "   [1.84474365e+02 1.76545792e+02 1.55688644e+02]\n",
            "   [1.76688721e+02 1.64556030e+02 1.40755020e+02]\n",
            "   [1.65948837e+02 1.51280502e+02 1.27285500e+02]]\n",
            "\n",
            "  [[5.54948959e+01 4.44948959e+01 2.40663261e+01]\n",
            "   [4.90612259e+01 3.80612259e+01 1.80612259e+01]\n",
            "   [4.60969391e+01 3.24540825e+01 1.56683664e+01]\n",
            "   ...\n",
            "   [1.59285675e+02 1.44668259e+02 1.21025429e+02]\n",
            "   [1.55785706e+02 1.39469360e+02 1.14214249e+02]\n",
            "   [1.51280502e+02 1.33637650e+02 1.07698853e+02]]\n",
            "\n",
            "  ...\n",
            "\n",
            "  [[1.89214066e+02 1.36785538e+02 7.79284821e+01]\n",
            "   [1.86555862e+02 1.34127335e+02 7.52702789e+01]\n",
            "   [1.82479340e+02 1.30050812e+02 7.11937561e+01]\n",
            "   ...\n",
            "   [9.23314896e+01 6.14744377e+01 3.70918198e+01]\n",
            "   [8.81275177e+01 6.17857361e+01 3.86429138e+01]\n",
            "   [8.65764389e+01 6.23571777e+01 3.97857361e+01]]\n",
            "\n",
            "  [[1.70040756e+02 1.24326523e+02 7.44694061e+01]\n",
            "   [1.64209167e+02 1.18494934e+02 6.86378174e+01]\n",
            "   [1.61428574e+02 1.15714340e+02 6.58572235e+01]\n",
            "   ...\n",
            "   [9.31683426e+01 6.63419037e+01 4.31276360e+01]\n",
            "   [9.22857666e+01 7.05715332e+01 4.74337540e+01]\n",
            "   [9.52654800e+01 7.74083633e+01 5.53369217e+01]]\n",
            "\n",
            "  [[1.53744553e+02 1.18458916e+02 7.11732712e+01]\n",
            "   [1.58305939e+02 1.23020294e+02 7.57346497e+01]\n",
            "   [1.60076401e+02 1.24790756e+02 7.75051117e+01]\n",
            "   ...\n",
            "   [1.05413567e+02 7.88574524e+01 5.61279526e+01]\n",
            "   [1.07719894e+02 8.69852524e+01 6.58882904e+01]\n",
            "   [1.28026520e+02 1.12383705e+02 8.93837051e+01]]]\n",
            "\n",
            "\n",
            " ...\n",
            "\n",
            "\n",
            " [[[1.70714283e+01 1.07142854e+00 3.61224484e+00]\n",
            "   [1.67142849e+01 7.14285731e-01 1.38265300e+00]\n",
            "   [1.79285717e+01 2.14285755e+00 1.49999988e+00]\n",
            "   ...\n",
            "   [7.42909851e+01 4.45052452e+01 9.79083061e+00]\n",
            "   [6.63060989e+01 3.52346573e+01 6.52042532e+00]\n",
            "   [5.57957230e+01 2.27957249e+01 6.51007938e+00]]\n",
            "\n",
            "  [[2.03316326e+01 4.37755108e+00 4.57142878e+00]\n",
            "   [1.99336739e+01 4.00000000e+00 3.80102038e+00]\n",
            "   [2.09285717e+01 5.92857170e+00 2.92857146e+00]\n",
            "   ...\n",
            "   [6.97603302e+01 3.99745941e+01 6.83164978e+00]\n",
            "   [8.03417282e+01 4.92702866e+01 2.05611572e+01]\n",
            "   [5.21884575e+01 1.91884594e+01 3.65797663e+00]]\n",
            "\n",
            "  [[2.00000000e+01 4.92346954e+00 1.14285684e+00]\n",
            "   [1.90714283e+01 4.05612230e+00 3.72448266e-01]\n",
            "   [1.93826542e+01 4.38265324e+00 4.28571224e-01]\n",
            "   ...\n",
            "   [7.02448959e+01 3.98417931e+01 8.55094242e+00]\n",
            "   [5.91988449e+01 2.81274033e+01 1.39283681e+00]\n",
            "   [5.02502975e+01 1.72502975e+01 2.19409204e+00]]\n",
            "\n",
            "  ...\n",
            "\n",
            "  [[1.94505096e+02 1.53505096e+02 9.95050964e+01]\n",
            "   [1.94984695e+02 1.53984695e+02 9.99846954e+01]\n",
            "   [1.95785706e+02 1.54785706e+02 1.00785706e+02]\n",
            "   ...\n",
            "   [1.83474503e+02 1.36474503e+02 8.17092209e+01]\n",
            "   [1.84928558e+02 1.37928558e+02 8.39285583e+01]\n",
            "   [1.82642822e+02 1.35642822e+02 8.16428223e+01]]\n",
            "\n",
            "  [[1.93668350e+02 1.52668350e+02 9.86683655e+01]\n",
            "   [1.94066315e+02 1.53066315e+02 9.90663071e+01]\n",
            "   [1.95198975e+02 1.54198975e+02 1.00198982e+02]\n",
            "   ...\n",
            "   [1.85413223e+02 1.38413223e+02 8.24132233e+01]\n",
            "   [1.84994904e+02 1.37994904e+02 8.39948959e+01]\n",
            "   [1.82642822e+02 1.35642822e+02 8.16428223e+01]]\n",
            "\n",
            "  [[1.92229599e+02 1.51229599e+02 9.72295990e+01]\n",
            "   [1.93928574e+02 1.52928574e+02 9.89285736e+01]\n",
            "   [1.96000000e+02 1.55000000e+02 1.01000000e+02]\n",
            "   ...\n",
            "   [1.84571411e+02 1.37571411e+02 8.15714111e+01]\n",
            "   [1.85000000e+02 1.38000000e+02 8.20000000e+01]\n",
            "   [1.84285675e+02 1.37285675e+02 8.32856750e+01]]]\n",
            "\n",
            "\n",
            " [[[9.25714264e+01 8.85714340e+01 7.93163223e+01]\n",
            "   [1.02066330e+02 1.00214287e+02 7.58724518e+01]\n",
            "   [1.23596939e+02 1.24678574e+02 9.06071472e+01]\n",
            "   ...\n",
            "   [9.70000000e+01 9.10000000e+01 9.30000000e+01]\n",
            "   [9.60714111e+01 9.00714111e+01 9.20714111e+01]\n",
            "   [9.66683655e+01 8.83571472e+01 9.11275558e+01]]\n",
            "\n",
            "  [[7.59744873e+01 7.09030609e+01 5.03265266e+01]\n",
            "   [8.05612259e+01 7.47142868e+01 6.06122437e+01]\n",
            "   [8.72857208e+01 8.28316345e+01 7.13163300e+01]\n",
            "   ...\n",
            "   [9.76734619e+01 9.27142792e+01 9.65152969e+01]\n",
            "   [9.78622589e+01 9.19285736e+01 9.57857132e+01]\n",
            "   [9.72602081e+01 9.12602081e+01 9.51173553e+01]]\n",
            "\n",
            "  [[7.50255127e+01 6.48112259e+01 5.53622475e+01]\n",
            "   [8.03622437e+01 7.09336700e+01 6.46581573e+01]\n",
            "   [7.93826523e+01 6.96734695e+01 6.61428604e+01]\n",
            "   ...\n",
            "   [9.95051117e+01 9.69999924e+01 1.00596939e+02]\n",
            "   [1.00969398e+02 9.60153046e+01 1.00428574e+02]\n",
            "   [1.01000000e+02 9.60000000e+01 1.00428574e+02]]\n",
            "\n",
            "  ...\n",
            "\n",
            "  [[1.44233685e+01 1.34233685e+01 1.14233685e+01]\n",
            "   [2.05254707e+01 1.95254707e+01 1.75254707e+01]\n",
            "   [2.31888142e+01 2.21888142e+01 2.01888142e+01]\n",
            "   ...\n",
            "   [1.37857666e+01 1.57857666e+01 1.43572388e+01]\n",
            "   [1.19846687e+01 1.60408096e+01 1.44133186e+01]\n",
            "   [9.57141113e+00 1.37856750e+01 1.21428833e+01]]\n",
            "\n",
            "  [[9.23978710e+00 9.23978710e+00 7.23978758e+00]\n",
            "   [6.22453070e+00 6.22453070e+00 4.22453070e+00]\n",
            "   [7.76023865e+00 7.76023865e+00 5.76023865e+00]\n",
            "   ...\n",
            "   [1.51581621e+01 1.70867214e+01 1.63010464e+01]\n",
            "   [1.41428223e+01 1.79948978e+01 1.71428833e+01]\n",
            "   [1.17602205e+01 1.57602205e+01 1.49031038e+01]]\n",
            "\n",
            "  [[1.23011475e+01 1.43011475e+01 1.13011475e+01]\n",
            "   [1.39031286e+01 1.59031286e+01 1.29031286e+01]\n",
            "   [1.50663891e+01 1.70663891e+01 1.40663891e+01]\n",
            "   ...\n",
            "   [1.31377535e+01 1.41377535e+01 1.61377525e+01]\n",
            "   [1.27142334e+01 1.65000000e+01 1.75714111e+01]\n",
            "   [1.16428223e+01 1.56428223e+01 1.66428223e+01]]]\n",
            "\n",
            "\n",
            " [[[2.10000000e+01 1.30000000e+01 1.10000000e+01]\n",
            "   [2.20000000e+01 1.40000000e+01 1.20000000e+01]\n",
            "   [2.30000000e+01 1.50000000e+01 1.30000000e+01]\n",
            "   ...\n",
            "   [2.00000000e+00 2.00000000e+00 2.00000000e+00]\n",
            "   [1.07144165e+00 1.07144165e+00 1.07144165e+00]\n",
            "   [2.00000000e+00 2.00000000e+00 2.00000000e+00]]\n",
            "\n",
            "  [[2.20000000e+01 1.40000000e+01 1.20000000e+01]\n",
            "   [2.29327164e+01 1.49327173e+01 1.29327173e+01]\n",
            "   [2.32598858e+01 1.52598858e+01 1.32598858e+01]\n",
            "   ...\n",
            "   [2.00000000e+00 2.00000000e+00 1.57147217e+00]\n",
            "   [1.07144165e+00 1.07144165e+00 1.07144165e+00]\n",
            "   [2.00000000e+00 2.00000000e+00 2.00000000e+00]]\n",
            "\n",
            "  [[2.27633934e+01 1.47633934e+01 1.27633934e+01]\n",
            "   [2.37088642e+01 1.57088652e+01 1.37088652e+01]\n",
            "   [2.41635857e+01 1.61635857e+01 1.41635847e+01]\n",
            "   ...\n",
            "   [2.00000000e+00 2.00000000e+00 3.71821433e-01]\n",
            "   [3.08048725e-01 1.83483458e+00 2.53510684e-01]\n",
            "   [1.23660707e+00 2.76339293e+00 2.00000000e+00]]\n",
            "\n",
            "  ...\n",
            "\n",
            "  [[5.79936457e+00 3.79936433e+00 7.27263117e+00]\n",
            "   [3.29115939e+00 2.81789279e+00 5.52779245e+00]\n",
            "   [3.45091915e+00 2.50162625e+00 7.34950495e+00]\n",
            "   ...\n",
            "   [8.83855438e+01 8.13855438e+01 7.33855438e+01]\n",
            "   [8.70615234e+01 7.80615234e+01 7.10615234e+01]\n",
            "   [7.99340591e+01 7.09340591e+01 6.39340630e+01]]\n",
            "\n",
            "  [[4.60556221e+00 2.60556245e+00 7.60556221e+00]\n",
            "   [5.88397217e+00 3.88397217e+00 8.88397217e+00]\n",
            "   [5.89640379e+00 5.11068964e+00 9.46783161e+00]\n",
            "   ...\n",
            "   [8.79875717e+01 8.09875717e+01 7.29875717e+01]\n",
            "   [9.05940628e+01 8.15940628e+01 7.45940628e+01]\n",
            "   [8.21903381e+01 7.31903381e+01 6.61903381e+01]]\n",
            "\n",
            "  [[6.00000000e+00 3.00000000e+00 1.00000000e+01]\n",
            "   [6.68013239e+00 4.68013239e+00 9.68013191e+00]\n",
            "   [5.41546631e+00 4.84403801e+00 9.20118046e+00]\n",
            "   ...\n",
            "   [8.80755615e+01 8.10755615e+01 7.30755615e+01]\n",
            "   [9.04195557e+01 8.14195557e+01 7.44195557e+01]\n",
            "   [8.09909668e+01 7.19909668e+01 6.49909668e+01]]]], shape=(32, 224, 224, 3), dtype=float32) tf.Tensor(\n",
            "[[0. 0. 0. 0. 0. 0. 0. 0. 0. 1.]\n",
            " [0. 0. 1. 0. 0. 0. 0. 0. 0. 0.]\n",
            " [0. 0. 0. 0. 0. 0. 1. 0. 0. 0.]\n",
            " [1. 0. 0. 0. 0. 0. 0. 0. 0. 0.]\n",
            " [0. 0. 0. 0. 0. 1. 0. 0. 0. 0.]\n",
            " [0. 0. 0. 0. 0. 0. 0. 0. 1. 0.]\n",
            " [0. 0. 0. 0. 0. 0. 0. 0. 1. 0.]\n",
            " [0. 0. 0. 0. 1. 0. 0. 0. 0. 0.]\n",
            " [0. 0. 0. 0. 0. 0. 0. 0. 1. 0.]\n",
            " [0. 0. 0. 0. 1. 0. 0. 0. 0. 0.]\n",
            " [0. 0. 0. 0. 0. 0. 0. 0. 1. 0.]\n",
            " [0. 0. 1. 0. 0. 0. 0. 0. 0. 0.]\n",
            " [1. 0. 0. 0. 0. 0. 0. 0. 0. 0.]\n",
            " [0. 0. 0. 0. 0. 1. 0. 0. 0. 0.]\n",
            " [0. 0. 0. 0. 0. 0. 1. 0. 0. 0.]\n",
            " [0. 0. 0. 0. 0. 0. 1. 0. 0. 0.]\n",
            " [0. 0. 0. 0. 1. 0. 0. 0. 0. 0.]\n",
            " [0. 0. 1. 0. 0. 0. 0. 0. 0. 0.]\n",
            " [0. 0. 0. 0. 0. 0. 0. 0. 0. 1.]\n",
            " [0. 0. 0. 0. 1. 0. 0. 0. 0. 0.]\n",
            " [1. 0. 0. 0. 0. 0. 0. 0. 0. 0.]\n",
            " [0. 0. 0. 1. 0. 0. 0. 0. 0. 0.]\n",
            " [0. 0. 0. 0. 0. 0. 0. 1. 0. 0.]\n",
            " [0. 0. 0. 1. 0. 0. 0. 0. 0. 0.]\n",
            " [0. 0. 0. 0. 0. 1. 0. 0. 0. 0.]\n",
            " [0. 0. 1. 0. 0. 0. 0. 0. 0. 0.]\n",
            " [0. 1. 0. 0. 0. 0. 0. 0. 0. 0.]\n",
            " [0. 0. 0. 0. 0. 0. 1. 0. 0. 0.]\n",
            " [1. 0. 0. 0. 0. 0. 0. 0. 0. 0.]\n",
            " [0. 0. 1. 0. 0. 0. 0. 0. 0. 0.]\n",
            " [0. 0. 0. 0. 0. 0. 0. 0. 0. 1.]\n",
            " [0. 0. 1. 0. 0. 0. 0. 0. 0. 0.]], shape=(32, 10), dtype=float32)\n"
          ]
        }
      ]
    },
    {
      "cell_type": "markdown",
      "source": [
        "## Model 0:Building a transfer learning feature extraction model using the Keras Functional API\n",
        "\n",
        "The Sequential API is straight-forward, it runs our layers in sequential order.\n",
        "\n",
        "Yet the functional API gives us more flexibility with our models."
      ],
      "metadata": {
        "id": "EuGaRGmiCS54"
      }
    },
    {
      "cell_type": "code",
      "source": [
        "# 1. Create base model with tf.keras.applications\n",
        "base_model = tf.keras.applications.EfficientNetB0(include_top=False)\n",
        "\n",
        "# 2. Freeze the base model (so the underlying pre-trained patterns aren't updated during training)\n",
        "base_model.trainable = False\n",
        "\n",
        "# 3. Create inputs into our model\n",
        "inputs = tf.keras.layers.Input(shape=(224, 224, 3), name=\"input_layer\")\n",
        "\n",
        "# 4. If using a model like ResNet50V2 you will need to normalize inputs (you don't have to for EfficientNet)\n",
        "# x = tf.keras.layers.experimental.preprocessing.Rescaling(1./255)(inputs)\n",
        "\n",
        "# 5. Pass the inputs to the base_model\n",
        "x = base_model(inputs)\n",
        "print(f\"Shape after passing inputs through base model: {x.shape}\")\n",
        "\n",
        "# 6. Average pool the outputs of the base model (aggregate all the most important information, reduce number of computations)\n",
        "x = tf.keras.layers.GlobalAveragePooling2D(name=\"global_average_pooling_layer\")(x)\n",
        "print(f\"Shape after GlobalAveragePooling2D: {x.shape}\")\n",
        "\n",
        "# 7. Create the output activation layer\n",
        "outputs = tf.keras.layers.Dense(10, activation=\"softmax\", name=\"output_layer\")(x)\n",
        "\n",
        "# 8. Combine the inputs with the outputs into a model\n",
        "model_0 = tf.keras.Model(inputs, outputs)"
      ],
      "metadata": {
        "id": "B0xpXh-YHLX8"
      },
      "execution_count": null,
      "outputs": []
    }
  ]
}