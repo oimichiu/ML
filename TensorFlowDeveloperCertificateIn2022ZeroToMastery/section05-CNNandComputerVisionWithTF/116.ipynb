{
 "cells": [
  {
   "cell_type": "markdown",
   "metadata": {},
   "source": [
    "# Introduction to Convolutional Neural Networks and Computer Vision with TensorFlow\n",
    "\n",
    "Computer vision is the practice of writing alorithhms which can discover patterns in visual data. Such as the camera of self-driving car recognizing the car in front."
   ]
  },
  {
   "cell_type": "markdown",
   "metadata": {},
   "source": [
    "## Get the data\n",
    "\n",
    "The images we're working with are from the Food101 dataset (101 different classes of food): https://www.kaggle.com/datasets/dansbecker/food-101\n",
    "\n",
    "However we're modified it to only use two classes (pizza & steak) using the image data modification notebook:https://github.com/mrdbourke/tensorflow-deep-learning/blob/main/extras/image_data_modification.ipynb\n",
    "\n",
    "**Note:** We start with a smaller dataset so we can experiment quickly and figure what works (orbetter yet what doesn't work) before scaling up."
   ]
  },
  {
   "cell_type": "code",
   "execution_count": 1,
   "metadata": {
    "scrolled": true
   },
   "outputs": [],
   "source": [
    "import zipfile\n",
    "# !wget https://storage.googleapis.com/ztm_tf_course/food_vision/pizza_steak.zip\n",
    "\n",
    "# Unzip the downloaded file\n",
    "# zip_ref = zipfile.ZipFile(\"pizza_stake.zip\")\n",
    "# zip_ref.extractall()\n",
    "# zip_ref.close()"
   ]
  },
  {
   "cell_type": "markdown",
   "metadata": {},
   "source": [
    "## Inspect the data (become one with it)\n",
    "\n",
    "A very crucial step at the beginning of any machine learning project is become one with the data.\n",
    "\n",
    "And for a computer vision project ... this usually means visualizing many samples of your data."
   ]
  },
  {
   "cell_type": "code",
   "execution_count": 2,
   "metadata": {},
   "outputs": [
    {
     "name": "stdout",
     "output_type": "stream",
     "text": [
      "test\n",
      "train\n"
     ]
    }
   ],
   "source": [
    "!ls pizza_steak"
   ]
  },
  {
   "cell_type": "code",
   "execution_count": 3,
   "metadata": {},
   "outputs": [
    {
     "name": "stdout",
     "output_type": "stream",
     "text": [
      "pizza\n",
      "steak\n"
     ]
    }
   ],
   "source": [
    "! ls pizza_steak/train/"
   ]
  },
  {
   "cell_type": "code",
   "execution_count": 4,
   "metadata": {},
   "outputs": [
    {
     "name": "stdout",
     "output_type": "stream",
     "text": [
      "1000205.jpg\n",
      "100135.jpg\n",
      "101312.jpg\n",
      "1021458.jpg\n",
      "1032846.jpg\n",
      "10380.jpg\n",
      "1049459.jpg\n",
      "1053665.jpg\n",
      "1068516.jpg\n",
      "1068975.jpg\n",
      "1081258.jpg\n",
      "1090122.jpg\n",
      "1093966.jpg\n",
      "1098844.jpg\n",
      "1100074.jpg\n",
      "1105280.jpg\n",
      "1117936.jpg\n",
      "1126126.jpg\n",
      "114601.jpg\n",
      "1147047.jpg\n",
      "1147883.jpg\n",
      "1155665.jpg\n",
      "1163977.jpg\n",
      "1190233.jpg\n",
      "1208405.jpg\n",
      "1209120.jpg\n",
      "1212161.jpg\n",
      "1213988.jpg\n",
      "1219039.jpg\n",
      "1225762.jpg\n",
      "1230968.jpg\n",
      "1236155.jpg\n",
      "1241193.jpg\n",
      "1248337.jpg\n",
      "1257104.jpg\n",
      "126345.jpg\n",
      "1264050.jpg\n",
      "1264154.jpg\n",
      "1264858.jpg\n",
      "127029.jpg\n",
      "1289900.jpg\n",
      "1290362.jpg\n",
      "1295457.jpg\n",
      "1312841.jpg\n",
      "1313316.jpg\n",
      "1324791.jpg\n",
      "1327567.jpg\n",
      "1327667.jpg\n",
      "1333055.jpg\n",
      "1334054.jpg\n",
      "1335556.jpg\n",
      "1337814.jpg\n",
      "1340977.jpg\n",
      "1343209.jpg\n",
      "134369.jpg\n",
      "1344105.jpg\n",
      "134598.jpg\n",
      "1346387.jpg\n",
      "1348047.jpg\n",
      "1351372.jpg\n",
      "1362989.jpg\n",
      "1367035.jpg\n",
      "1371177.jpg\n",
      "1375640.jpg\n",
      "1382427.jpg\n",
      "1392718.jpg\n",
      "1395906.jpg\n",
      "1400760.jpg\n",
      "1403005.jpg\n",
      "1404770.jpg\n",
      "140832.jpg\n",
      "141056.jpg\n",
      "141135.jpg\n",
      "1413972.jpg\n",
      "1421393.jpg\n",
      "1428947.jpg\n",
      "1433912.jpg\n",
      "143490.jpg\n",
      "1445352.jpg\n",
      "1446401.jpg\n",
      "1453991.jpg\n",
      "1456841.jpg\n",
      "146833.jpg\n",
      "1476404.jpg\n",
      "1485083.jpg\n",
      "1487113.jpg\n",
      "148916.jpg\n",
      "149087.jpg\n",
      "1493169.jpg\n",
      "149682.jpg\n",
      "1508094.jpg\n",
      "1512226.jpg\n",
      "1512347.jpg\n",
      "1524526.jpg\n",
      "1530833.jpg\n",
      "1539499.jpg\n",
      "1541672.jpg\n",
      "1548239.jpg\n",
      "1550997.jpg\n",
      "1552530.jpg\n",
      "15580.jpg\n",
      "1559052.jpg\n",
      "1563266.jpg\n",
      "1567554.jpg\n"
     ]
    }
   ],
   "source": [
    "!ls pizza_steak/train/steak/"
   ]
  },
  {
   "cell_type": "code",
   "execution_count": 5,
   "metadata": {},
   "outputs": [
    {
     "name": "stdout",
     "output_type": "stream",
     "text": [
      "1575322.jpg\n",
      "1588879.jpg\n",
      "1594719.jpg\n",
      "1595869.jpg\n",
      "1598345.jpg\n",
      "1598885.jpg\n",
      "1600179.jpg\n",
      "1600794.jpg\n",
      "160552.jpg\n",
      "1606596.jpg\n",
      "1615395.jpg\n",
      "1618011.jpg\n",
      "1619357.jpg\n",
      "1621763.jpg\n",
      "1623325.jpg\n",
      "1624450.jpg\n",
      "1624747.jpg\n",
      "1628861.jpg\n",
      "1632774.jpg\n",
      "1636831.jpg\n",
      "1645470.jpg\n",
      "1647351.jpg\n",
      "1650002.jpg\n",
      "165639.jpg\n",
      "1658186.jpg\n",
      "1658443.jpg\n",
      "165964.jpg\n",
      "167069.jpg\n",
      "1675632.jpg\n",
      "1678108.jpg\n",
      "168006.jpg\n",
      "1682496.jpg\n",
      "1684438.jpg\n",
      "168775.jpg\n",
      "1697339.jpg\n",
      "1710569.jpg\n",
      "1714605.jpg\n",
      "1724387.jpg\n",
      "1724717.jpg\n",
      "172936.jpg\n",
      "1736543.jpg\n",
      "1736968.jpg\n",
      "1746626.jpg\n",
      "1752330.jpg\n",
      "1761285.jpg\n",
      "176508.jpg\n",
      "1772039.jpg\n",
      "1777107.jpg\n",
      "1787505.jpg\n",
      "179293.jpg\n",
      "1816235.jpg\n",
      "1822407.jpg\n",
      "1823263.jpg\n",
      "1826066.jpg\n",
      "1828502.jpg\n",
      "1828969.jpg\n",
      "1829045.jpg\n",
      "1829088.jpg\n",
      "1836332.jpg\n",
      "1839025.jpg\n",
      "1839481.jpg\n",
      "183995.jpg\n",
      "184110.jpg\n",
      "184226.jpg\n",
      "1846706.jpg\n",
      "1849364.jpg\n",
      "1849463.jpg\n",
      "1849542.jpg\n",
      "1853564.jpg\n",
      "1869467.jpg\n",
      "1870942.jpg\n",
      "187303.jpg\n",
      "187521.jpg\n",
      "1888450.jpg\n",
      "There are 2 directories and 0 images in 'pizza_steak'.\n",
      "1889336.jpg\n",
      "1907039.jpg\n",
      "1925230.jpg\n",
      "1927984.jpg\n",
      "1930577.jpg\n",
      "1937872.jpg\n",
      "1941807.jpg\n",
      "1942333.jpg\n",
      "1945132.jpg\n",
      "1961025.jpg\n",
      "1966300.jpg\n",
      "1966967.jpg\n",
      "1969596.jpg\n",
      "1971757.jpg\n",
      "1976160.jpg\n",
      "1984271.jpg\n",
      "1987213.jpg\n",
      "1987639.jpg\n",
      "1995118.jpg\n",
      "1995252.jpg\n",
      "199754.jpg\n",
      "2002400.jpg\n",
      "2011264.jpg\n",
      "2012996.jpg\n",
      "2013535.jpg\n",
      "2017387.jpg\n",
      "2018173.jpg\n",
      "2020613.jpg\n",
      "2032669.jpg\n",
      "203450.jpg\n",
      "2034628.jpg\n",
      "2036920.jpg\n",
      "2038418.jpg\n",
      "2042975.jpg\n",
      "2045647.jpg\n",
      "2050584.jpg\n",
      "2052542.jpg\n",
      "2056627.jpg\n",
      "2062248.jpg\n",
      "2081995.jpg\n",
      "There are 2 directories and 0 images in 'pizza_steak\\test'.2087958.jpg\n",
      "\n",
      "2088030.jpg\n",
      "2088195.jpg\n",
      "2090493.jpg\n",
      "2090504.jpg\n",
      "2125877.jpg\n",
      "2129685.jpg\n",
      "2133717.jpg\n",
      "2136662.jpg\n",
      "213765.jpg\n",
      "2138335.jpg\n",
      "2140776.jpg\n",
      "214320.jpg\n",
      "2146963.jpg\n",
      "215222.jpg\n",
      "2154126.jpg\n",
      "2154779.jpg\n",
      "2159975.jpg\n",
      "2163079.jpg\n",
      "217250.jpg\n",
      "2172600.jpg\n",
      "2173084.jpg\n",
      "217996.jpg\n",
      "2193684.jpg\n",
      "220341.jpg\n",
      "22080.jpg\n",
      "2216146.jpg\n",
      "2222018.jpg\n",
      "2223787.jpg\n",
      "2230959.jpg\n",
      "2232310.jpg\n",
      "2233395.jpg\n",
      "2238681.jpg\n",
      "2238802.jpg\n",
      "2254705.jpg\n",
      "225990.jpg\n",
      "2260231.jpg\n",
      "2268692.jpg\n",
      "2271133.jpg\n",
      "227576.jpg\n",
      "2283057.jpg\n",
      "2286639.jpg\n",
      "2287136.jpg\n",
      "2291292.jpg\n",
      "229323.jpg\n",
      "2300534.jpg\n",
      "2300845.jpg\n",
      "231296.jpg\n",
      "2315295.jpg\n",
      "2323132.jpg\n",
      "2324994.jpg\n",
      "2327701.jpg\n",
      "2331076.jpg\n",
      "233964.jpg\n",
      "2344227.jpg\n",
      "234626.jpg\n",
      "234704.jpg\n",
      "2357281.jpg\n",
      "2361812.jpg\n",
      "2365287.jpg\n",
      "2374582.jpg\n",
      "239025.jpg\n",
      "2390628.jpg\n",
      "2392910.jpg\n",
      "2394465.jpg\n",
      "2395127.jpg\n",
      "2396291.jpg\n",
      "2400975.jpg\n",
      "2403776.jpg\n",
      "2403907.jpg\n",
      "240435.jpg\n",
      "2404695.jpg\n",
      "2404884.jpg\n",
      "2407770.jpg\n",
      "2412263.jpg\n",
      "2425062.jpg\n",
      "2425389.jpg\n",
      "2435316.jpg\n",
      "2437268.jpg\n",
      "2437843.jpg\n",
      "2440131.jpg\n",
      "2443168.jpg\n",
      "2446660.jpg\n",
      "2455944.jpg\n",
      "2458401.jpg\n",
      "2487306.jpg\n",
      "248841.jpg\n",
      "2489716.jpg\n",
      "2490489.jpg\n",
      "2495884.jpg\n",
      "2495903.jpg\n",
      "2499364.jpg\n",
      "2500292.jpg\n",
      "2509017.jpg\n",
      "250978.jpg\n",
      "2514432.jpg\n",
      "2526838.jpg\n",
      "252858.jpg\n",
      "2532239.jpg\n",
      "2534567.jpg\n",
      "2535431.jpg\n",
      "2535456.jpg\n",
      "2538000.jpg\n",
      "2543081.jpg\n",
      "2544643.jpg\n",
      "2547797.jpg\n",
      "2548974.jpg\n",
      "2549316.jpg\n",
      "2561199.jpg\n",
      "2563233.jpg\n",
      "256592.jpg\n",
      "2568848.jpg\n",
      "2573392.jpg\n",
      "2592401.jpg\n",
      "2599817.jpg\n",
      "2603058.jpg\n",
      "2606444.jpg\n",
      "2614189.jpg\n",
      "2614649.jpg\n",
      "2615718.jpg\n",
      "2619625.jpg\n",
      "2622140.jpg\n",
      "262321.jpg\n",
      "2625330.jpg\n",
      "2628106.jpg\n",
      "2629750.jpg\n",
      "2643906.jpg\n",
      "2644457.jpg\n",
      "2648423.jpg\n",
      "2651300.jpg\n",
      "2653594.jpg\n",
      "2661577.jpg\n",
      "2668916.jpg\n",
      "268444.jpg\n",
      "2691461.jpg\n",
      "2706403.jpg\n",
      "270687.jpg\n",
      "2707522.jpg\n",
      "2711806.jpg\n",
      "2716993.jpg\n",
      "2724554.jpg\n",
      "2738227.jpg\n",
      "2748917.jpg\n",
      "2760475.jpg\n",
      "2761427.jpg\n",
      "2765887.jpg\n",
      "2768451.jpg\n",
      "2771149.jpg\n",
      "2779040.jpg\n",
      "2788312.jpg\n",
      "2788759.jpg\n",
      "2796102.jpg\n",
      "280284.jpg\n",
      "2807888.jpg\n",
      "2815172.jpg\n",
      "2818805.jpg\n",
      "2823872.jpg\n",
      "2824680.jpg\n",
      "2825100.jpg\n",
      "2826987.jpg\n",
      "2832499.jpg\n",
      "2832960.jpg\n",
      "285045.jpg\n",
      "285147.jpg\n",
      "2855315.jpg\n",
      "2856066.jpg\n",
      "2859933.jpg\n",
      "286219.jpg\n",
      "2862562.jpg\n",
      "2865730.jpg\n",
      "2878151.jpg\n",
      "2880035.jpg\n",
      "2881783.jpg\n",
      "2884233.jpg\n",
      "2890573.jpg\n",
      "2893832.jpg\n",
      "2893892.jpg\n",
      "2907177.jpg\n",
      "290850.jpg\n",
      "2909031.jpg\n",
      "2910418.jpg\n",
      "2912290.jpg\n",
      "2916448.jpg\n",
      "2916967.jpg\n",
      "2927833.jpg\n",
      "2928643.jpg\n",
      "2929179.jpg\n",
      "2936477.jpg\n",
      "2938012.jpg\n",
      "2938151.jpg\n",
      "2939678.jpg\n",
      "2940544.jpg\n",
      "2940621.jpg\n",
      "2949079.jpg\n",
      "295491.jpg\n",
      "296268.jpg\n",
      "2964732.jpg\n",
      "2965021.jpg\n",
      "2966859.jpg\n",
      "2977966.jpg\n",
      "2979061.jpg\n",
      "2983260.jpg\n",
      "2984311.jpg\n",
      "2988960.jpg\n",
      "2989882.jpg\n",
      "2995169.jpg\n",
      "2996324.jpg\n",
      "3000131.jpg\n",
      "3002350.jpg\n",
      "3007772.jpg\n",
      "3008192.jpg\n",
      "3009617.jpg\n",
      "3011642.jpg\n",
      "3020591.jpg\n",
      "3030578.jpg\n",
      "3047807.jpg\n",
      "3059843.jpg\n",
      "3074367.jpg\n",
      "3082120.jpg\n",
      "3094354.jpg\n",
      "3095301.jpg\n",
      "3099645.jpg\n",
      "3100476.jpg\n",
      "3110387.jpg\n",
      "3113772.jpg\n",
      "3116018.jpg\n",
      "3128952.jpg\n",
      "3130412.jpg\n",
      "3136.jpg\n",
      "313851.jpg\n",
      "3140083.jpg\n",
      "3140147.jpg\n",
      "3142045.jpg\n",
      "3142618.jpg\n",
      "3142674.jpg\n",
      "3143192.jpg\n",
      "314359.jpg\n",
      "3157832.jpg\n",
      "3159818.jpg\n",
      "3162376.jpg\n",
      "3168620.jpg\n",
      "3171085.jpg\n",
      "317206.jpg\n",
      "3173444.jpg\n",
      "3180182.jpg\n",
      "There are 0 directories and 250 images in 'pizza_steak\\test\\pizza'.31881.jpg\n",
      "3191589.jpg\n",
      "3204977.jpg\n",
      "320658.jpg\n",
      "3209173.jpg\n",
      "\n",
      "3223400.jpg\n",
      "3223601.jpg\n",
      "3241894.jpg\n",
      "3245533.jpg\n",
      "3245622.jpg\n",
      "3247009.jpg\n",
      "3253588.jpg\n",
      "3260624.jpg\n",
      "326587.jpg\n",
      "32693.jpg\n",
      "3271253.jpg\n",
      "3274423.jpg\n",
      "3280453.jpg\n",
      "3298495.jpg\n",
      "330182.jpg\n",
      "3306627.jpg\n",
      "3315727.jpg\n",
      "331860.jpg\n",
      "332232.jpg\n",
      "3322909.jpg\n",
      "332557.jpg\n",
      "3326734.jpg\n",
      "3330642.jpg\n",
      "3333128.jpg\n",
      "3333735.jpg\n",
      "3334973.jpg\n",
      "3335013.jpg\n",
      "3335267.jpg\n",
      "3346787.jpg\n",
      "3364420.jpg\n",
      "336637.jpg\n",
      "3372616.jpg\n",
      "3375959.jpg\n",
      "3381560.jpg\n",
      "3382936.jpg\n",
      "3386119.jpg\n",
      "3388717.jpg\n",
      "3389138.jpg\n",
      "3393547.jpg\n",
      "3393688.jpg\n",
      "3396589.jpg\n",
      "339891.jpg\n",
      "3417789.jpg\n",
      "3425047.jpg\n",
      "3434983.jpg\n",
      "3435358.jpg\n",
      "3438319.jpg\n",
      "3444407.jpg\n",
      "345734.jpg\n",
      "3460673.jpg\n",
      "3465327.jpg\n",
      "3466159.jpg\n",
      "3469024.jpg\n",
      "3470083.jpg\n",
      "3476564.jpg\n",
      "3478318.jpg\n",
      "3488748.jpg\n",
      "3492328.jpg\n",
      "3518960.jpg\n",
      "3522209.jpg\n",
      "3524429.jpg\n",
      "3528458.jpg\n",
      "3531805.jpg\n",
      "3536023.jpg\n",
      "3538682.jpg\n",
      "3540750.jpg\n",
      "354329.jpg\n",
      "3547166.jpg\n",
      "3553911.jpg\n",
      "3556871.jpg\n",
      "355715.jpg\n",
      "356234.jpg\n",
      "3571963.jpg\n",
      "3576078.jpg\n",
      "3577618.jpg\n",
      "3577732.jpg\n",
      "3578934.jpg\n",
      "358042.jpg\n",
      "358045.jpg\n",
      "3591821.jpg\n",
      "359330.jpg\n",
      "3601483.jpg\n",
      "3606642.jpg\n",
      "3609394.jpg\n",
      "361067.jpg\n",
      "3613455.jpg\n",
      "3621464.jpg\n",
      "3621562.jpg\n",
      "3621565.jpg\n",
      "3623556.jpg\n",
      "3640915.jpg\n",
      "3643951.jpg\n",
      "3653129.jpg\n",
      "3656752.jpg\n",
      "3663518.jpg\n",
      "3663800.jpg\n",
      "3664376.jpg\n",
      "3670607.jpg\n",
      "3671021.jpg\n",
      "3671877.jpg\n",
      "368073.jpg\n",
      "368162.jpg\n",
      "368170.jpg\n",
      "3693649.jpg\n",
      "3700079.jpg\n",
      "3704103.jpg\n",
      "3707493.jpg\n",
      "3716881.jpg\n",
      "3724677.jpg\n",
      "3727036.jpg\n",
      "3727491.jpg\n",
      "3736065.jpg\n",
      "37384.jpg\n",
      "3743286.jpg\n",
      "3745515.jpg\n",
      "3750472.jpg\n",
      "3752362.jpg\n",
      "3766099.jpg\n",
      "3770370.jpg\n",
      "377190.jpg\n",
      "3777020.jpg\n",
      "3777482.jpg\n",
      "3781152.jpg\n",
      "3787809.jpg\n",
      "3788729.jpg\n",
      "3790962.jpg\n",
      "3792514.jpg\n",
      "379737.jpg\n",
      "3807440.jpg\n",
      "381162.jpg\n",
      "3812039.jpg\n",
      "3829392.jpg\n",
      "3830872.jpg\n",
      "38442.jpg\n",
      "3855584.jpg\n",
      "3857508.jpg\n",
      "386335.jpg\n",
      "3867460.jpg\n",
      "3868959.jpg\n",
      "3869679.jpg\n",
      "388776.jpg\n",
      "3890465.jpg\n",
      "3894222.jpg\n",
      "3895825.jpg\n",
      "389739.jpg\n",
      "3916407.jpg\n",
      "393349.jpg\n",
      "393494.jpg\n",
      "398288.jpg\n",
      "40094.jpg\n",
      "401094.jpg\n",
      "401144.jpg\n",
      "401651.jpg\n",
      "405173.jpg\n",
      "405794.jpg\n",
      "40762.jpg\n",
      "413325.jpg\n",
      "417368.jpg\n",
      "4176.jpg\n",
      "42125.jpg\n",
      "421476.jpg\n",
      "421561.jpg\n",
      "438871.jpg\n",
      "43924.jpg\n",
      "440188.jpg\n",
      "442757.jpg\n",
      "443210.jpg\n",
      "444064.jpg\n",
      "444709.jpg\n",
      "447557.jpg\n",
      "461187.jpg\n",
      "461689.jpg\n",
      "465494.jpg\n",
      "468384.jpg\n",
      "477486.jpg\n",
      "482022.jpg\n",
      "482465.jpg\n",
      "483788.jpg\n",
      "493029.jpg\n",
      "503589.jpg\n",
      "510757.jpg\n",
      "513129.jpg\n",
      "513842.jpg\n",
      "523535.jpg\n",
      "525041.jpg\n",
      "534560.jpg\n",
      "534633.jpg\n",
      "536535.jpgThere are 0 directories and 250 images in 'pizza_steak\\test\\steak'.\n",
      "541410.jpg\n",
      "543691.jpg\n",
      "560503.jpg\n",
      "561972.jpg\n",
      "56240.jpg\n",
      "56409.jpg\n",
      "564530.jpg\n",
      "568972.jpg\n",
      "576725.jpg\n",
      "588739.jpg\n",
      "590142.jpg\n",
      "60633.jpg\n",
      "60655.jpg\n",
      "606820.jpg\n",
      "612551.jpg\n",
      "614975.jpg\n",
      "\n",
      "616809.jpg\n",
      "628628.jpg\n",
      "632427.jpg\n",
      "636594.jpg\n",
      "637374.jpg\n",
      "640539.jpg\n",
      "644777.jpg\n",
      "644867.jpg\n",
      "658189.jpg\n",
      "660900.jpg\n",
      "663014.jpg\n",
      "664545.jpg\n",
      "667075.jpg\n",
      "669180.jpg\n",
      "669960.jpg\n",
      "6709.jpg\n",
      "674001.jpg\n",
      "676189.jpg\n",
      "681609.jpg\n",
      "6926.jpg\n",
      "703556.jpg\n",
      "703909.jpg\n",
      "704316.jpg\n",
      "714298.jpg\n",
      "720060.jpg\n",
      "726083.jpg\n",
      "728020.jpg\n",
      "732986.jpg\n",
      "734445.jpg\n",
      "735441.jpg\n",
      "740090.jpg\n",
      "745189.jpg\n",
      "752203.jpg\n",
      "75537.jpg\n",
      "756655.jpg\n",
      "762210.jpg\n",
      "763690.jpg\n",
      "767442.jpg\n",
      "786409.jpg\n",
      "80215.jpg\n",
      "802348.jpg\n",
      "804684.jpg\n",
      "812163.jpg\n",
      "813486.jpg\n",
      "819027.jpg\n",
      "822550.jpg\n",
      "823766.jpg\n",
      "827764.jpg\n",
      "830007.jpg\n",
      "838344.jpg\n",
      "853327.jpg\n",
      "854150.jpg\n",
      "864997.jpg\n",
      "885571.jpg\n",
      "907107.jpg\n",
      "908261.jpg\n",
      "910672.jpg\n",
      "911803.jpg\n",
      "91432.jpg\n",
      "914570.jpg\n",
      "922752.jpg\n",
      "There are 2 directories and 0 images in 'pizza_steak\\train'.923772.jpg\n",
      "926414.jpg\n",
      "931356.jpg\n",
      "937133.jpg\n",
      "945791.jpg\n",
      "947877.jpg\n",
      "952407.jpg\n",
      "952437.jpg\n",
      "955466.jpg\n",
      "9555.jpg\n",
      "961341.jpg\n",
      "97656.jpg\n",
      "979110.jpg\n",
      "980247.jpg\n",
      "982988.jpg\n",
      "987732.jpg\n",
      "996684.jpg\n",
      "\n",
      "There are 0 directories and 750 images in 'pizza_steak\\train\\pizza'.\n",
      "There are 0 directories and 750 images in 'pizza_steak\\train\\steak'.\n"
     ]
    }
   ],
   "source": [
    "import os\n",
    "\n",
    "# Walk through pizza_steak directory and list number of files\n",
    "for dirpath, dirnames, filenames in os.walk(\"pizza_steak\"):\n",
    "    print(f\"There are {len(dirnames)} directories and {len(filenames)} images in '{dirpath}'.\")"
   ]
  },
  {
   "cell_type": "code",
   "execution_count": 6,
   "metadata": {},
   "outputs": [
    {
     "data": {
      "text/plain": [
       "750"
      ]
     },
     "execution_count": 6,
     "metadata": {},
     "output_type": "execute_result"
    }
   ],
   "source": [
    "# Another way to find out how many images are in a file\n",
    "num_steak_images_train = len(os.listdir(\"pizza_steak/train/steak\"))\n",
    "\n",
    "num_steak_images_train"
   ]
  },
  {
   "cell_type": "markdown",
   "metadata": {},
   "source": [
    "To visualize our images, first let's get the class names programmatically. "
   ]
  },
  {
   "cell_type": "code",
   "execution_count": 7,
   "metadata": {},
   "outputs": [
    {
     "name": "stdout",
     "output_type": "stream",
     "text": [
      "['pizza' 'steak']\n"
     ]
    }
   ],
   "source": [
    "# Get the class names programmatically\n",
    "import pathlib\n",
    "import numpy as np\n",
    "data_dir = pathlib.Path(\"pizza_steak/train\")\n",
    "class_names = np.array(sorted([item.name for item in data_dir.glob(\"*\")]))  # Created a list of class_names from the subdirectories\n",
    "print(class_names)"
   ]
  },
  {
   "cell_type": "code",
   "execution_count": 8,
   "metadata": {},
   "outputs": [],
   "source": [
    "# Let's visualize our images\n",
    "import matplotlib.pyplot as plt\n",
    "import matplotlib.image as mpimg\n",
    "import random\n",
    "import tensorflow as tf\n",
    "\n",
    "def view_random_image(target_dir, target_class):\n",
    "    # Setup the target directory (we'll view images from here)\n",
    "    target_folder = target_dir + target_class\n",
    "    \n",
    "    # Get a random image path\n",
    "    random_image = random.sample(os.listdir(target_folder), 1)\n",
    "    print(random_image)\n",
    "    \n",
    "    # Read the image and plot it using matplotlib\n",
    "    img = mpimg.imread(target_folder + \"/\" + random_image[0])\n",
    "    plt.imshow(img)\n",
    "    plt.title(target_class)\n",
    "    plt.axis(\"off\");\n",
    "    \n",
    "    print(f\"Image shape: {img.shape}\") # show the shape of the image\n",
    "    \n",
    "    return img"
   ]
  },
  {
   "cell_type": "code",
   "execution_count": 9,
   "metadata": {},
   "outputs": [
    {
     "name": "stdout",
     "output_type": "stream",
     "text": [
      "['917774.jpg']\n",
      "Image shape: (512, 512, 3)\n"
     ]
    },
    {
     "data": {
      "image/png": "[encoded data removed]",
      "text/plain": [
       "<Figure size 432x288 with 1 Axes>"
      ]
     },
     "metadata": {
      "needs_background": "light"
     },
     "output_type": "display_data"
    }
   ],
   "source": [
    "# View a random image from the training dataset\n",
    "img = view_random_image(target_dir = \"pizza_steak/train/\",\n",
    "                       target_class=\"pizza\")"
   ]
  },
  {
   "cell_type": "code",
   "execution_count": 10,
   "metadata": {},
   "outputs": [
    {
     "data": {
      "text/plain": [
       "<tf.Tensor: shape=(512, 512, 3), dtype=uint8, numpy=\n",
       "array([[[100,  85,  82],\n",
       "        [100,  85,  82],\n",
       "        [100,  85,  82],\n",
       "        ...,\n",
       "        [ 85,  61,  51],\n",
       "        [ 83,  59,  49],\n",
       "        [ 80,  56,  46]],\n",
       "\n",
       "       [[ 99,  84,  81],\n",
       "        [100,  85,  82],\n",
       "        [101,  86,  83],\n",
       "        ...,\n",
       "        [ 84,  60,  50],\n",
       "        [ 84,  60,  50],\n",
       "        [ 85,  61,  51]],\n",
       "\n",
       "       [[ 98,  83,  80],\n",
       "        [100,  85,  82],\n",
       "        [103,  88,  85],\n",
       "        ...,\n",
       "        [ 83,  59,  49],\n",
       "        [ 85,  61,  51],\n",
       "        [ 88,  64,  54]],\n",
       "\n",
       "       ...,\n",
       "\n",
       "       [[240, 245, 251],\n",
       "        [208, 213, 219],\n",
       "        [185, 190, 196],\n",
       "        ...,\n",
       "        [163, 111,  35],\n",
       "        [159, 107,  31],\n",
       "        [153, 102,  23]],\n",
       "\n",
       "       [[249, 254, 255],\n",
       "        [240, 245, 251],\n",
       "        [217, 222, 228],\n",
       "        ...,\n",
       "        [160, 107,  29],\n",
       "        [160, 107,  29],\n",
       "        [160, 107,  27]],\n",
       "\n",
       "       [[243, 248, 254],\n",
       "        [249, 254, 255],\n",
       "        [242, 247, 253],\n",
       "        ...,\n",
       "        [149,  96,  18],\n",
       "        [154,  99,  19],\n",
       "        [157, 102,  22]]], dtype=uint8)>"
      ]
     },
     "execution_count": 10,
     "metadata": {},
     "output_type": "execute_result"
    }
   ],
   "source": [
    "tf.constant(img)"
   ]
  },
  {
   "cell_type": "code",
   "execution_count": 11,
   "metadata": {},
   "outputs": [
    {
     "data": {
      "text/plain": [
       "(512, 512, 3)"
      ]
     },
     "execution_count": 11,
     "metadata": {},
     "output_type": "execute_result"
    }
   ],
   "source": [
    "# View thr image shape\n",
    "img.shape # returns width, height, colour channels"
   ]
  },
  {
   "cell_type": "markdown",
   "metadata": {},
   "source": [
    "**Note:** As we're discussed before, many machine learning models, including neural networks perfer the values they work with to be between 0 and 1. Knowing this, one of the most common preprocessing steps for working with images is to **scale** (also referred to as **normalize**) their pixel values bydividing the image arrays by 255. (since is the maximum pixel value)."
   ]
  },
  {
   "cell_type": "code",
   "execution_count": 12,
   "metadata": {},
   "outputs": [
    {
     "data": {
      "text/plain": [
       "array([[[0.39215686, 0.33333333, 0.32156863],\n",
       "        [0.39215686, 0.33333333, 0.32156863],\n",
       "        [0.39215686, 0.33333333, 0.32156863],\n",
       "        ...,\n",
       "        [0.33333333, 0.23921569, 0.2       ],\n",
       "        [0.3254902 , 0.23137255, 0.19215686],\n",
       "        [0.31372549, 0.21960784, 0.18039216]],\n",
       "\n",
       "       [[0.38823529, 0.32941176, 0.31764706],\n",
       "        [0.39215686, 0.33333333, 0.32156863],\n",
       "        [0.39607843, 0.3372549 , 0.3254902 ],\n",
       "        ...,\n",
       "        [0.32941176, 0.23529412, 0.19607843],\n",
       "        [0.32941176, 0.23529412, 0.19607843],\n",
       "        [0.33333333, 0.23921569, 0.2       ]],\n",
       "\n",
       "       [[0.38431373, 0.3254902 , 0.31372549],\n",
       "        [0.39215686, 0.33333333, 0.32156863],\n",
       "        [0.40392157, 0.34509804, 0.33333333],\n",
       "        ...,\n",
       "        [0.3254902 , 0.23137255, 0.19215686],\n",
       "        [0.33333333, 0.23921569, 0.2       ],\n",
       "        [0.34509804, 0.25098039, 0.21176471]],\n",
       "\n",
       "       ...,\n",
       "\n",
       "       [[0.94117647, 0.96078431, 0.98431373],\n",
       "        [0.81568627, 0.83529412, 0.85882353],\n",
       "        [0.7254902 , 0.74509804, 0.76862745],\n",
       "        ...,\n",
       "        [0.63921569, 0.43529412, 0.1372549 ],\n",
       "        [0.62352941, 0.41960784, 0.12156863],\n",
       "        [0.6       , 0.4       , 0.09019608]],\n",
       "\n",
       "       [[0.97647059, 0.99607843, 1.        ],\n",
       "        [0.94117647, 0.96078431, 0.98431373],\n",
       "        [0.85098039, 0.87058824, 0.89411765],\n",
       "        ...,\n",
       "        [0.62745098, 0.41960784, 0.11372549],\n",
       "        [0.62745098, 0.41960784, 0.11372549],\n",
       "        [0.62745098, 0.41960784, 0.10588235]],\n",
       "\n",
       "       [[0.95294118, 0.97254902, 0.99607843],\n",
       "        [0.97647059, 0.99607843, 1.        ],\n",
       "        [0.94901961, 0.96862745, 0.99215686],\n",
       "        ...,\n",
       "        [0.58431373, 0.37647059, 0.07058824],\n",
       "        [0.60392157, 0.38823529, 0.0745098 ],\n",
       "        [0.61568627, 0.4       , 0.08627451]]])"
      ]
     },
     "execution_count": 12,
     "metadata": {},
     "output_type": "execute_result"
    }
   ],
   "source": [
    "# Get all the pixel values between 0 & 1\n",
    "img/255."
   ]
  },
  {
   "cell_type": "markdown",
   "metadata": {},
   "source": [
    "## An end-to-end example\n",
    "\n",
    "Let's build a convolutional neural network to find patterns in our images, more specifically we need a way to:\n",
    "\n",
    "* Load our images\n",
    "* Preprocess our images\n",
    "* Build a CNN to find  patterns in our images\n",
    "* Compile our CNN\n",
    "* Fit the CNN to our training data"
   ]
  },
  {
   "cell_type": "code",
   "execution_count": 13,
   "metadata": {},
   "outputs": [
    {
     "name": "stdout",
     "output_type": "stream",
     "text": [
      "Found 1500 images belonging to 2 classes.\n",
      "Found 500 images belonging to 2 classes.\n",
      "Epoch 1/5\n",
      "47/47 [==============================] - 81s 2s/step - loss: 0.5837 - accuracy: 0.6840 - val_loss: 0.4798 - val_accuracy: 0.7700\n",
      "Epoch 2/5\n",
      "47/47 [==============================] - 76s 2s/step - loss: 0.4371 - accuracy: 0.7973 - val_loss: 0.3468 - val_accuracy: 0.8500\n",
      "Epoch 3/5\n",
      "47/47 [==============================] - 77s 2s/step - loss: 0.3967 - accuracy: 0.8180 - val_loss: 0.3627 - val_accuracy: 0.8380\n",
      "Epoch 4/5\n",
      "47/47 [==============================] - 77s 2s/step - loss: 0.3794 - accuracy: 0.8427 - val_loss: 0.3417 - val_accuracy: 0.8440\n",
      "Epoch 5/5\n",
      "47/47 [==============================] - 78s 2s/step - loss: 0.3265 - accuracy: 0.8613 - val_loss: 0.3350 - val_accuracy: 0.8560\n"
     ]
    }
   ],
   "source": [
    "from tensorflow.keras.preprocessing.image import ImageDataGenerator\n",
    "\n",
    "# set the seed\n",
    "tf.random.set_seed(42)\n",
    "\n",
    "# Preprocess data (get all of the pixel values between 0 & 1, also called scaling/normalization)\n",
    "train_datagen = ImageDataGenerator(rescale=1./255)\n",
    "valid_datagen = ImageDataGenerator(rescale= 1./255)\n",
    "\n",
    "# Setup paths to our data directories\n",
    "train_dir = \"pizza_steak/train\"\n",
    "test_dir =  \"pizza_steak/test\"\n",
    "\n",
    "# Import data from directories and turn it into batches\n",
    "train_data = train_datagen.flow_from_directory(directory=train_dir,\n",
    "                                              batch_size=32,\n",
    "                                              target_size=(224, 224),\n",
    "                                              class_mode=\"binary\",\n",
    "                                              seed=42)\n",
    "\n",
    "valid_data = valid_datagen.flow_from_directory(directory=test_dir,\n",
    "                                              batch_size=32,\n",
    "                                              target_size=(224,224),\n",
    "                                              class_mode=\"binary\",\n",
    "                                              seed=42)\n",
    "\n",
    "# Build a CNN model (same as the Tiny VGG on the CNN explainer website)\n",
    "model_1 = tf.keras.models.Sequential([\n",
    "    tf.keras.layers.Conv2D(filters=10,\n",
    "                          kernel_size=3,\n",
    "                          activation=\"relu\",\n",
    "                          input_shape=(224, 224, 3)),\n",
    "    tf.keras.layers.Conv2D(10, 3, activation=\"relu\"),\n",
    "    tf.keras.layers.MaxPool2D(pool_size=2,\n",
    "                             padding=\"valid\"),\n",
    "    tf.keras.layers.Conv2D(10, 3, activation=\"relu\"),\n",
    "    tf.keras.layers.Conv2D(10, 3, activation=\"relu\"),\n",
    "    tf.keras.layers.MaxPool2D(2),\n",
    "    tf.keras.layers.Flatten(),\n",
    "    tf.keras.layers.Dense(1, activation=\"sigmoid\")\n",
    "])\n",
    "\n",
    "# Compile our CNN\n",
    "model_1.compile(loss=tf.keras.losses.BinaryCrossentropy(),\n",
    "               optimizer=tf.keras.optimizers.Adam(),\n",
    "               metrics=[\"accuracy\"])\n",
    "\n",
    "# Fit the model\n",
    "history_1 = model_1.fit(train_data,\n",
    "                       epochs=5,\n",
    "                       steps_per_epoch=len(train_data),\n",
    "                       validation_data=valid_data,\n",
    "                       validation_steps=len(valid_data))"
   ]
  },
  {
   "cell_type": "code",
   "execution_count": 14,
   "metadata": {},
   "outputs": [
    {
     "data": {
      "text/plain": [
       "47"
      ]
     },
     "execution_count": 14,
     "metadata": {},
     "output_type": "execute_result"
    }
   ],
   "source": [
    "len(train_data)"
   ]
  },
  {
   "cell_type": "markdown",
   "metadata": {},
   "source": [
    "**Note:** If the above cell is taking longer than ~10 seconds per epoch, make sure you're using a GPU by going to Runtime -> Change Runtime Type -> Hardware Accelator -> GPU (you may have to rerun some cells above) - for Google Colab"
   ]
  },
  {
   "cell_type": "code",
   "execution_count": 15,
   "metadata": {},
   "outputs": [
    {
     "name": "stdout",
     "output_type": "stream",
     "text": [
      "Model: \"sequential\"\n",
      "_________________________________________________________________\n",
      " Layer (type)                Output Shape              Param #   \n",
      "=================================================================\n",
      " conv2d (Conv2D)             (None, 222, 222, 10)      280       \n",
      "                                                                 \n",
      " conv2d_1 (Conv2D)           (None, 220, 220, 10)      910       \n",
      "                                                                 \n",
      " max_pooling2d (MaxPooling2D  (None, 110, 110, 10)     0         \n",
      " )                                                               \n",
      "                                                                 \n",
      " conv2d_2 (Conv2D)           (None, 108, 108, 10)      910       \n",
      "                                                                 \n",
      " conv2d_3 (Conv2D)           (None, 106, 106, 10)      910       \n",
      "                                                                 \n",
      " max_pooling2d_1 (MaxPooling  (None, 53, 53, 10)       0         \n",
      " 2D)                                                             \n",
      "                                                                 \n",
      " flatten (Flatten)           (None, 28090)             0         \n",
      "                                                                 \n",
      " dense (Dense)               (None, 1)                 28091     \n",
      "                                                                 \n",
      "=================================================================\n",
      "Total params: 31,101\n",
      "Trainable params: 31,101\n",
      "Non-trainable params: 0\n",
      "_________________________________________________________________\n"
     ]
    }
   ],
   "source": [
    "# Get the model summary\n",
    "model_1.summary()"
   ]
  },
  {
   "cell_type": "markdown",
   "metadata": {},
   "source": [
    "## Using the same model as before\n",
    "\n",
    "Let's replicate the model we're built in a previous section to see if it works with our image data.\n",
    "\n",
    "The model we're building is from the TensorFlow playground:\n"
   ]
  },
  {
   "cell_type": "code",
   "execution_count": 16,
   "metadata": {},
   "outputs": [
    {
     "name": "stdout",
     "output_type": "stream",
     "text": [
      "Epoch 1/5\n",
      "47/47 [==============================] - 17s 334ms/step - loss: 1.0567 - accuracy: 0.5013 - val_loss: 0.6932 - val_accuracy: 0.5000\n",
      "Epoch 2/5\n",
      "47/47 [==============================] - 13s 272ms/step - loss: 0.6932 - accuracy: 0.5000 - val_loss: 0.6932 - val_accuracy: 0.5000\n",
      "Epoch 3/5\n",
      "47/47 [==============================] - 13s 279ms/step - loss: 0.6932 - accuracy: 0.5000 - val_loss: 0.6932 - val_accuracy: 0.5000\n",
      "Epoch 4/5\n",
      "47/47 [==============================] - 14s 300ms/step - loss: 0.6932 - accuracy: 0.5000 - val_loss: 0.6932 - val_accuracy: 0.5000\n",
      "Epoch 5/5\n",
      "47/47 [==============================] - 17s 358ms/step - loss: 0.6932 - accuracy: 0.5000 - val_loss: 0.6931 - val_accuracy: 0.5000\n"
     ]
    }
   ],
   "source": [
    "# Set the random seed\n",
    "tf.random.set_seed(24)\n",
    "\n",
    "# Create a model to replicate the TensorFlow Playground model\n",
    "model_2 = tf.keras.Sequential([\n",
    "    tf.keras.layers.Flatten(input_shape=(224, 224, 3)),\n",
    "    tf.keras.layers.Dense(4, activation=\"relu\"),\n",
    "    tf.keras.layers.Dense(4, activation=\"relu\"),\n",
    "    tf.keras.layers.Dense(1, activation=\"sigmoid\")\n",
    "])\n",
    "\n",
    "\n",
    "# Compile the model\n",
    "model_2.compile(loss=tf.keras.losses.BinaryCrossentropy(),\n",
    "               optimizer=tf.keras.optimizers.Adam(),\n",
    "               metrics=[\"accuracy\"])\n",
    "\n",
    "# Fit the model\n",
    "history_2 = model_2.fit(train_data,\n",
    "                       epochs=5,\n",
    "                       steps_per_epoch=len(train_data),\n",
    "                       validation_data=valid_data,\n",
    "                       validation_steps=len(valid_data))"
   ]
  },
  {
   "cell_type": "code",
   "execution_count": 17,
   "metadata": {},
   "outputs": [
    {
     "name": "stdout",
     "output_type": "stream",
     "text": [
      "Model: \"sequential_1\"\n",
      "_________________________________________________________________\n",
      " Layer (type)                Output Shape              Param #   \n",
      "=================================================================\n",
      " flatten_1 (Flatten)         (None, 150528)            0         \n",
      "                                                                 \n",
      " dense_1 (Dense)             (None, 4)                 602116    \n",
      "                                                                 \n",
      " dense_2 (Dense)             (None, 4)                 20        \n",
      "                                                                 \n",
      " dense_3 (Dense)             (None, 1)                 5         \n",
      "                                                                 \n",
      "=================================================================\n",
      "Total params: 602,141\n",
      "Trainable params: 602,141\n",
      "Non-trainable params: 0\n",
      "_________________________________________________________________\n"
     ]
    }
   ],
   "source": [
    "# Get a summary of model_2\n",
    "model_2.summary()"
   ]
  },
  {
   "cell_type": "markdown",
   "metadata": {},
   "source": [
    "Despite having 20x more parameters than our CNN (model_1), model_2 performs terribly ... let's try to improve the model_2"
   ]
  },
  {
   "cell_type": "code",
   "execution_count": 18,
   "metadata": {},
   "outputs": [
    {
     "name": "stdout",
     "output_type": "stream",
     "text": [
      "Epoch 1/5\n",
      "47/47 [==============================] - 26s 498ms/step - loss: 3.1799 - accuracy: 0.6347 - val_loss: 0.5036 - val_accuracy: 0.7700\n",
      "Epoch 2/5\n",
      "47/47 [==============================] - 21s 439ms/step - loss: 1.3220 - accuracy: 0.6873 - val_loss: 0.9609 - val_accuracy: 0.7600\n",
      "Epoch 3/5\n",
      "47/47 [==============================] - 22s 464ms/step - loss: 0.7774 - accuracy: 0.7153 - val_loss: 0.4482 - val_accuracy: 0.7880\n",
      "Epoch 4/5\n",
      "47/47 [==============================] - 22s 465ms/step - loss: 0.5352 - accuracy: 0.7800 - val_loss: 0.4687 - val_accuracy: 0.7600\n",
      "Epoch 5/5\n",
      "47/47 [==============================] - 21s 445ms/step - loss: 0.4868 - accuracy: 0.7773 - val_loss: 0.4684 - val_accuracy: 0.7780\n"
     ]
    }
   ],
   "source": [
    "# Build model 3 with 1 more hidden layers and 100 neurons\n",
    "\n",
    "# Set random seed\n",
    "tf.random.set_seed(42)\n",
    "\n",
    "# 1. Create the model\n",
    "model_3 = tf.keras.Sequential([\n",
    "    tf.keras.layers.Flatten(input_shape=(224,224,3)),\n",
    "    tf.keras.layers.Dense(100, activation=\"relu\"),\n",
    "    tf.keras.layers.Dense(100, activation=\"relu\"),\n",
    "    tf.keras.layers.Dense(100, activation=\"relu\"),\n",
    "    tf.keras.layers.Dense(1, activation=\"sigmoid\")\n",
    "])\n",
    "\n",
    "# 2. Compile the model\n",
    "model_3.compile(loss=tf.keras.losses.BinaryCrossentropy(),\n",
    "               optimizer=tf.keras.optimizers.Adam(),\n",
    "               metrics=[\"accuracy\"])\n",
    "\n",
    "# 3 Fit the model\n",
    "history_3 = model_3.fit(train_data,\n",
    "                       epochs=5,\n",
    "                       steps_per_epoch=len(train_data),\n",
    "                       validation_data=valid_data,\n",
    "                       validation_steps=len(valid_data))"
   ]
  },
  {
   "cell_type": "code",
   "execution_count": 19,
   "metadata": {
    "scrolled": true
   },
   "outputs": [
    {
     "name": "stdout",
     "output_type": "stream",
     "text": [
      "Model: \"sequential_2\"\n",
      "_________________________________________________________________\n",
      " Layer (type)                Output Shape              Param #   \n",
      "=================================================================\n",
      " flatten_2 (Flatten)         (None, 150528)            0         \n",
      "                                                                 \n",
      " dense_4 (Dense)             (None, 100)               15052900  \n",
      "                                                                 \n",
      " dense_5 (Dense)             (None, 100)               10100     \n",
      "                                                                 \n",
      " dense_6 (Dense)             (None, 100)               10100     \n",
      "                                                                 \n",
      " dense_7 (Dense)             (None, 1)                 101       \n",
      "                                                                 \n",
      "=================================================================\n",
      "Total params: 15,073,201\n",
      "Trainable params: 15,073,201\n",
      "Non-trainable params: 0\n",
      "_________________________________________________________________\n"
     ]
    }
   ],
   "source": [
    "# Get a summary of model_3\n",
    "model_3.summary()"
   ]
  },
  {
   "cell_type": "code",
   "execution_count": 20,
   "metadata": {},
   "outputs": [
    {
     "data": {
      "text/plain": [
       "484.6532587376612"
      ]
     },
     "execution_count": 20,
     "metadata": {},
     "output_type": "execute_result"
    }
   ],
   "source": [
    "15073201/31101"
   ]
  },
  {
   "cell_type": "markdown",
   "metadata": {},
   "source": [
    "**Note:** You can think of trainable parameters as **patterns a model can learn from data**. Intuitvely, you might think more is better. And in lots of cases, it is. But in this case, the difference here is the two different styles of model we're using. Where a series of dense layers has a number of different learnable parameters connected to each other and hence a higher number of possible learnable patterns, **a convolutional neural netowrk seeks to sort out and learn the most important patterns in an image.** So even though these are less learnable paramters in our convolutinal neural network, there are often more helpful in dechiphering between different **features** in an image. "
   ]
  },
  {
   "cell_type": "code",
   "execution_count": 21,
   "metadata": {},
   "outputs": [
    {
     "name": "stdout",
     "output_type": "stream",
     "text": [
      "Model: \"sequential\"\n",
      "_________________________________________________________________\n",
      " Layer (type)                Output Shape              Param #   \n",
      "=================================================================\n",
      " conv2d (Conv2D)             (None, 222, 222, 10)      280       \n",
      "                                                                 \n",
      " conv2d_1 (Conv2D)           (None, 220, 220, 10)      910       \n",
      "                                                                 \n",
      " max_pooling2d (MaxPooling2D  (None, 110, 110, 10)     0         \n",
      " )                                                               \n",
      "                                                                 \n",
      " conv2d_2 (Conv2D)           (None, 108, 108, 10)      910       \n",
      "                                                                 \n",
      " conv2d_3 (Conv2D)           (None, 106, 106, 10)      910       \n",
      "                                                                 \n",
      " max_pooling2d_1 (MaxPooling  (None, 53, 53, 10)       0         \n",
      " 2D)                                                             \n",
      "                                                                 \n",
      " flatten (Flatten)           (None, 28090)             0         \n",
      "                                                                 \n",
      " dense (Dense)               (None, 1)                 28091     \n",
      "                                                                 \n",
      "=================================================================\n",
      "Total params: 31,101\n",
      "Trainable params: 31,101\n",
      "Non-trainable params: 0\n",
      "_________________________________________________________________\n"
     ]
    }
   ],
   "source": [
    "model_1.summary()"
   ]
  },
  {
   "cell_type": "markdown",
   "metadata": {},
   "source": [
    "## Binary classification: let's break it down\n",
    "\n",
    "1. Become one with the data (visualize, visualize, visualize)\n",
    "2. Preprocess the data (prepared it for our model, the main step here was scaling/normalizing & turning our data into batches)\n",
    "3. Created a model (start with a baseline) - start with a beanchmark - article for validation\n",
    "4. Fit the model\n",
    "5. Evalaute the model\n",
    "6. Adjust different parameters and improve the model (try to beat our baseline)\n",
    "7. Repeat until satisfied (experiment, experiment, experiment)"
   ]
  },
  {
   "cell_type": "markdown",
   "metadata": {},
   "source": [
    "### 1. Become one with the data"
   ]
  },
  {
   "cell_type": "code",
   "execution_count": 22,
   "metadata": {},
   "outputs": [
    {
     "name": "stdout",
     "output_type": "stream",
     "text": [
      "['1621763.jpg']\n",
      "Image shape: (512, 512, 3)\n",
      "['962785.jpg']\n",
      "Image shape: (512, 341, 3)\n"
     ]
    },
    {
     "data": {
      "image/png": "[encoded data removed]",
      "text/plain": [
       "<Figure size 432x288 with 2 Axes>"
      ]
     },
     "metadata": {
      "needs_background": "light"
     },
     "output_type": "display_data"
    }
   ],
   "source": [
    "# Visualize data\n",
    "plt.figure()\n",
    "plt.subplot(1, 2, 1)\n",
    "steak_img = view_random_image(\"pizza_steak/train/\", \"steak\")\n",
    "plt.subplot(1, 2, 2)\n",
    "pizza_img = view_random_image(\"pizza_steak/train/\", \"pizza\")"
   ]
  },
  {
   "cell_type": "markdown",
   "metadata": {},
   "source": [
    "### 2. Preprocess the data (prepare it for a model)"
   ]
  },
  {
   "cell_type": "code",
   "execution_count": 23,
   "metadata": {},
   "outputs": [],
   "source": [
    "# Define directory dataset paths\n",
    "train_dir = \"pizza_steak/train/\"\n",
    "test_dir = \"pizza_steak/test/\""
   ]
  },
  {
   "cell_type": "markdown",
   "metadata": {},
   "source": [
    "Our next step is to turn our data into **batches**.\n",
    "\n",
    "A batch is a small subset of data. Rather tahn look at all ~10,000 images at one time, a model might only look at 32 at a time.\n",
    "\n",
    "It does this for a couple of reasons:\n",
    "1. 10,000 images (or more) might not fit into the memory of your preocessor (CPU, GPU, TPU).\n",
    "2. Trying to learn the patterns in 10,000 images in one hit could result in the model not being able to learn very well.\n",
    "\n",
    "32 is a good fit for the batch size ... it is the optimal number."
   ]
  },
  {
   "cell_type": "code",
   "execution_count": 24,
   "metadata": {},
   "outputs": [],
   "source": [
    "# Create train and test data generators and rescale the data\n",
    "from tensorflow.keras.preprocessing.image import ImageDataGenerator\n",
    "train_datagen = ImageDataGenerator(rescale=1/255.)\n",
    "test_datagen = ImageDataGenerator(rescale=1/255.)"
   ]
  },
  {
   "cell_type": "code",
   "execution_count": 25,
   "metadata": {},
   "outputs": [
    {
     "name": "stdout",
     "output_type": "stream",
     "text": [
      "Found 1500 images belonging to 2 classes.\n",
      "Found 500 images belonging to 2 classes.\n"
     ]
    }
   ],
   "source": [
    "# Load in our image data from directories and turn them into batchs\n",
    "train_data = train_datagen.flow_from_directory(directory=train_dir,\n",
    "                                              target_size=(224, 224),\n",
    "                                              class_mode=\"binary\",\n",
    "                                              batch_size=32)\n",
    "test_data = test_datagen.flow_from_directory(directory=test_dir,\n",
    "                                            target_size=(224, 224),\n",
    "                                            class_mode=\"binary\",\n",
    "                                            batch_size=32)"
   ]
  },
  {
   "cell_type": "code",
   "execution_count": 28,
   "metadata": {},
   "outputs": [
    {
     "data": {
      "text/plain": [
       "(32, 32)"
      ]
     },
     "execution_count": 28,
     "metadata": {},
     "output_type": "execute_result"
    }
   ],
   "source": [
    "# Get a sample of a train data batch\n",
    "images, labels = train_data.next() # get the \"next\" batch of images/labels in train data\n",
    "len(images), len(labels)"
   ]
  },
  {
   "cell_type": "code",
   "execution_count": 29,
   "metadata": {},
   "outputs": [
    {
     "data": {
      "text/plain": [
       "47"
      ]
     },
     "execution_count": 29,
     "metadata": {},
     "output_type": "execute_result"
    }
   ],
   "source": [
    "# How many batches are there?\n",
    "len(train_data)"
   ]
  },
  {
   "cell_type": "code",
   "execution_count": 30,
   "metadata": {},
   "outputs": [
    {
     "data": {
      "text/plain": [
       "46.875"
      ]
     },
     "execution_count": 30,
     "metadata": {},
     "output_type": "execute_result"
    }
   ],
   "source": [
    "1500/32"
   ]
  },
  {
   "cell_type": "code",
   "execution_count": 31,
   "metadata": {},
   "outputs": [
    {
     "data": {
      "text/plain": [
       "(array([[[[0.01568628, 0.01568628, 0.02352941],\n",
       "          [0.01568628, 0.01568628, 0.02352941],\n",
       "          [0.01960784, 0.01960784, 0.02745098],\n",
       "          ...,\n",
       "          [0.01568628, 0.01568628, 0.02352941],\n",
       "          [0.01568628, 0.01568628, 0.02352941],\n",
       "          [0.01960784, 0.01960784, 0.02745098]],\n",
       " \n",
       "         [[0.01568628, 0.01568628, 0.02352941],\n",
       "          [0.01568628, 0.01568628, 0.02352941],\n",
       "          [0.01960784, 0.01960784, 0.02745098],\n",
       "          ...,\n",
       "          [0.01568628, 0.01568628, 0.02352941],\n",
       "          [0.01568628, 0.01568628, 0.02352941],\n",
       "          [0.01960784, 0.01960784, 0.02745098]],\n",
       " \n",
       "         [[0.01568628, 0.01568628, 0.02352941],\n",
       "          [0.01568628, 0.01568628, 0.02352941],\n",
       "          [0.01960784, 0.01960784, 0.02745098],\n",
       "          ...,\n",
       "          [0.01568628, 0.01568628, 0.02352941],\n",
       "          [0.01568628, 0.01568628, 0.02352941],\n",
       "          [0.01960784, 0.01960784, 0.02745098]],\n",
       " \n",
       "         ...,\n",
       " \n",
       "         [[0.6392157 , 0.6       , 0.6039216 ],\n",
       "          [0.627451  , 0.5882353 , 0.5921569 ],\n",
       "          [0.6       , 0.56078434, 0.5647059 ],\n",
       "          ...,\n",
       "          [0.9176471 , 0.8941177 , 0.8941177 ],\n",
       "          [0.9215687 , 0.8980393 , 0.8980393 ],\n",
       "          [0.9176471 , 0.8941177 , 0.8941177 ]],\n",
       " \n",
       "         [[0.6862745 , 0.6431373 , 0.65882355],\n",
       "          [0.6627451 , 0.61960787, 0.63529414],\n",
       "          [0.6509804 , 0.60784316, 0.62352943],\n",
       "          ...,\n",
       "          [0.9176471 , 0.8941177 , 0.8941177 ],\n",
       "          [0.91372555, 0.89019614, 0.89019614],\n",
       "          [0.909804  , 0.8862746 , 0.8862746 ]],\n",
       " \n",
       "         [[0.7960785 , 0.75294125, 0.7686275 ],\n",
       "          [0.7294118 , 0.6862745 , 0.7019608 ],\n",
       "          [0.6901961 , 0.64705884, 0.6627451 ],\n",
       "          ...,\n",
       "          [0.91372555, 0.89019614, 0.89019614],\n",
       "          [0.9058824 , 0.882353  , 0.882353  ],\n",
       "          [0.9058824 , 0.882353  , 0.882353  ]]],\n",
       " \n",
       " \n",
       "        [[[0.        , 0.        , 0.        ],\n",
       "          [0.        , 0.        , 0.        ],\n",
       "          [0.        , 0.        , 0.        ],\n",
       "          ...,\n",
       "          [0.        , 0.        , 0.        ],\n",
       "          [0.        , 0.        , 0.        ],\n",
       "          [0.        , 0.        , 0.        ]],\n",
       " \n",
       "         [[0.        , 0.        , 0.        ],\n",
       "          [0.        , 0.        , 0.        ],\n",
       "          [0.        , 0.        , 0.        ],\n",
       "          ...,\n",
       "          [0.        , 0.        , 0.        ],\n",
       "          [0.        , 0.        , 0.        ],\n",
       "          [0.        , 0.        , 0.        ]],\n",
       " \n",
       "         [[0.        , 0.        , 0.        ],\n",
       "          [0.        , 0.        , 0.        ],\n",
       "          [0.        , 0.        , 0.        ],\n",
       "          ...,\n",
       "          [0.        , 0.        , 0.        ],\n",
       "          [0.        , 0.        , 0.        ],\n",
       "          [0.        , 0.        , 0.        ]],\n",
       " \n",
       "         ...,\n",
       " \n",
       "         [[0.15294118, 0.10196079, 0.16862746],\n",
       "          [0.18431373, 0.14117648, 0.20392159],\n",
       "          [0.16078432, 0.13725491, 0.19215688],\n",
       "          ...,\n",
       "          [0.04313726, 0.04313726, 0.08235294],\n",
       "          [0.03529412, 0.03529412, 0.07450981],\n",
       "          [0.03137255, 0.03137255, 0.07058824]],\n",
       " \n",
       "         [[0.14509805, 0.09411766, 0.16470589],\n",
       "          [0.16470589, 0.10980393, 0.1764706 ],\n",
       "          [0.16470589, 0.09803922, 0.16862746],\n",
       "          ...,\n",
       "          [0.03921569, 0.03921569, 0.07843138],\n",
       "          [0.03137255, 0.03137255, 0.07058824],\n",
       "          [0.03137255, 0.03137255, 0.07058824]],\n",
       " \n",
       "         [[0.15686275, 0.10588236, 0.1764706 ],\n",
       "          [0.13725491, 0.07058824, 0.14509805],\n",
       "          [0.18823531, 0.10588236, 0.18039216],\n",
       "          ...,\n",
       "          [0.03529412, 0.03529412, 0.07450981],\n",
       "          [0.03137255, 0.03137255, 0.07058824],\n",
       "          [0.03137255, 0.03137255, 0.07058824]]]], dtype=float32),\n",
       " (224, 224, 3))"
      ]
     },
     "execution_count": 31,
     "metadata": {},
     "output_type": "execute_result"
    }
   ],
   "source": [
    "# Get the first two images\n",
    "images[:2], images[0].shape"
   ]
  },
  {
   "cell_type": "code",
   "execution_count": 32,
   "metadata": {},
   "outputs": [
    {
     "data": {
      "text/plain": [
       "array([[[0.86666673, 0.43921572, 0.1764706 ],\n",
       "        [0.8980393 , 0.6       , 0.29411766],\n",
       "        [1.        , 0.8705883 , 0.50980395],\n",
       "        ...,\n",
       "        [0.86666673, 0.73333335, 0.48235297],\n",
       "        [0.80392164, 0.6666667 , 0.44705886],\n",
       "        [0.87843144, 0.7490196 , 0.5411765 ]],\n",
       "\n",
       "       [[0.96470594, 0.54509807, 0.2784314 ],\n",
       "        [0.9058824 , 0.627451  , 0.3137255 ],\n",
       "        [1.        , 0.8745099 , 0.50980395],\n",
       "        ...,\n",
       "        [0.6745098 , 0.5411765 , 0.2901961 ],\n",
       "        [0.67058825, 0.54509807, 0.3137255 ],\n",
       "        [0.7568628 , 0.6313726 , 0.40784317]],\n",
       "\n",
       "       [[0.9490197 , 0.54509807, 0.27450982],\n",
       "        [1.        , 0.73333335, 0.4156863 ],\n",
       "        [0.9960785 , 0.882353  , 0.52156866],\n",
       "        ...,\n",
       "        [0.7019608 , 0.5803922 , 0.3254902 ],\n",
       "        [0.6745098 , 0.5568628 , 0.3137255 ],\n",
       "        [0.7411765 , 0.62352943, 0.38823533]],\n",
       "\n",
       "       ...,\n",
       "\n",
       "       [[0.8980393 , 0.5686275 , 0.23137257],\n",
       "        [0.7490196 , 0.40784317, 0.10588236],\n",
       "        [0.80392164, 0.4431373 , 0.18823531],\n",
       "        ...,\n",
       "        [0.6431373 , 0.59607846, 0.40784317],\n",
       "        [0.6509804 , 0.6       , 0.427451  ],\n",
       "        [0.7176471 , 0.6745098 , 0.49803925]],\n",
       "\n",
       "       [[0.92549026, 0.59607846, 0.32156864],\n",
       "        [0.7294118 , 0.37647063, 0.14117648],\n",
       "        [0.7294118 , 0.34509805, 0.16078432],\n",
       "        ...,\n",
       "        [0.6627451 , 0.6117647 , 0.43529415],\n",
       "        [0.6313726 , 0.5803922 , 0.4156863 ],\n",
       "        [0.64705884, 0.6039216 , 0.427451  ]],\n",
       "\n",
       "       [[0.627451  , 0.29411766, 0.07843138],\n",
       "        [0.50980395, 0.15294118, 0.        ],\n",
       "        [0.56078434, 0.15686275, 0.03529412],\n",
       "        ...,\n",
       "        [0.6627451 , 0.6117647 , 0.43921572],\n",
       "        [0.6392157 , 0.5921569 , 0.427451  ],\n",
       "        [0.6627451 , 0.61960787, 0.4431373 ]]], dtype=float32)"
      ]
     },
     "execution_count": 32,
     "metadata": {},
     "output_type": "execute_result"
    }
   ],
   "source": [
    "images[7]"
   ]
  },
  {
   "cell_type": "code",
   "execution_count": 33,
   "metadata": {},
   "outputs": [
    {
     "data": {
      "text/plain": [
       "(224, 224, 3)"
      ]
     },
     "execution_count": 33,
     "metadata": {},
     "output_type": "execute_result"
    }
   ],
   "source": [
    "images[7].shape"
   ]
  },
  {
   "cell_type": "code",
   "execution_count": 34,
   "metadata": {},
   "outputs": [
    {
     "data": {
      "text/plain": [
       "array([1., 1., 0., 1., 0., 1., 1., 1., 1., 0., 0., 1., 1., 0., 0., 0., 1.,\n",
       "       1., 1., 0., 0., 1., 1., 0., 1., 1., 1., 0., 1., 1., 1., 1.],\n",
       "      dtype=float32)"
      ]
     },
     "execution_count": 34,
     "metadata": {},
     "output_type": "execute_result"
    }
   ],
   "source": [
    "# View the first batch of labels,\n",
    "labels"
   ]
  },
  {
   "cell_type": "code",
   "execution_count": null,
   "metadata": {},
   "outputs": [],
   "source": []
  }
 ],
 "metadata": {
  "kernelspec": {
   "display_name": "Python 3",
   "language": "python",
   "name": "python3"
  },
  "language_info": {
   "codemirror_mode": {
    "name": "ipython",
    "version": 3
   },
   "file_extension": ".py",
   "mimetype": "text/x-python",
   "name": "python",
   "nbconvert_exporter": "python",
   "pygments_lexer": "ipython3",
   "version": "3.7.3"
  }
 },
 "nbformat": 4,
 "nbformat_minor": 4
}
