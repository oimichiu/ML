{
 "cells": [
  {
   "cell_type": "markdown",
   "metadata": {},
   "source": [
    "# Working with a larger example (multiclass classification)\n",
    "\n",
    "When you have more than two classes as an option, it's known as **multi-class classification**.\n",
    "\n",
    "* This means if you have 3 different classes, it's multi-class classification.\n",
    "* It also means if you have 100 different classes, it's multi-class classification.\n",
    "\n",
    "To practice multi-class classification, we're going to build a neural network to classify images of different items of clothing.\n",
    "\n"
   ]
  },
  {
   "cell_type": "code",
   "execution_count": 34,
   "metadata": {},
   "outputs": [],
   "source": [
    "import tensorflow as tf\n",
    "import numpy as np\n",
    "import pandas as pd\n",
    "import matplotlib.pyplot as plt"
   ]
  },
  {
   "cell_type": "code",
   "execution_count": 35,
   "metadata": {},
   "outputs": [],
   "source": [
    "from tensorflow.keras.datasets import fashion_mnist"
   ]
  },
  {
   "cell_type": "code",
   "execution_count": 36,
   "metadata": {},
   "outputs": [],
   "source": [
    "# The data has already been sorted into training and test sets for us\n",
    "(train_data, train_labels), (test_data, test_labels) = fashion_mnist.load_data()"
   ]
  },
  {
   "cell_type": "code",
   "execution_count": 37,
   "metadata": {},
   "outputs": [
    {
     "name": "stdout",
     "output_type": "stream",
     "text": [
      "Training sample:\n",
      "[[  0   0   0   0   0   0   0   0   0   0   0   0   0   0   0   0   0   0\n",
      "    0   0   0   0   0   0   0   0   0   0]\n",
      " [  0   0   0   0   0   0   0   0   0   0   0   0   0   0   0   0   0   0\n",
      "    0   0   0   0   0   0   0   0   0   0]\n",
      " [  0   0   0   0   0   0   0   0   0   0   0   0   0   0   0   0   0   0\n",
      "    0   0   0   0   0   0   0   0   0   0]\n",
      " [  0   0   0   0   0   0   0   0   0   0   0   0   1   0   0  13  73   0\n",
      "    0   1   4   0   0   0   0   1   1   0]\n",
      " [  0   0   0   0   0   0   0   0   0   0   0   0   3   0  36 136 127  62\n",
      "   54   0   0   0   1   3   4   0   0   3]\n",
      " [  0   0   0   0   0   0   0   0   0   0   0   0   6   0 102 204 176 134\n",
      "  144 123  23   0   0   0   0  12  10   0]\n",
      " [  0   0   0   0   0   0   0   0   0   0   0   0   0   0 155 236 207 178\n",
      "  107 156 161 109  64  23  77 130  72  15]\n",
      " [  0   0   0   0   0   0   0   0   0   0   0   1   0  69 207 223 218 216\n",
      "  216 163 127 121 122 146 141  88 172  66]\n",
      " [  0   0   0   0   0   0   0   0   0   1   1   1   0 200 232 232 233 229\n",
      "  223 223 215 213 164 127 123 196 229   0]\n",
      " [  0   0   0   0   0   0   0   0   0   0   0   0   0 183 225 216 223 228\n",
      "  235 227 224 222 224 221 223 245 173   0]\n",
      " [  0   0   0   0   0   0   0   0   0   0   0   0   0 193 228 218 213 198\n",
      "  180 212 210 211 213 223 220 243 202   0]\n",
      " [  0   0   0   0   0   0   0   0   0   1   3   0  12 219 220 212 218 192\n",
      "  169 227 208 218 224 212 226 197 209  52]\n",
      " [  0   0   0   0   0   0   0   0   0   0   6   0  99 244 222 220 218 203\n",
      "  198 221 215 213 222 220 245 119 167  56]\n",
      " [  0   0   0   0   0   0   0   0   0   4   0   0  55 236 228 230 228 240\n",
      "  232 213 218 223 234 217 217 209  92   0]\n",
      " [  0   0   1   4   6   7   2   0   0   0   0   0 237 226 217 223 222 219\n",
      "  222 221 216 223 229 215 218 255  77   0]\n",
      " [  0   3   0   0   0   0   0   0   0  62 145 204 228 207 213 221 218 208\n",
      "  211 218 224 223 219 215 224 244 159   0]\n",
      " [  0   0   0   0  18  44  82 107 189 228 220 222 217 226 200 205 211 230\n",
      "  224 234 176 188 250 248 233 238 215   0]\n",
      " [  0  57 187 208 224 221 224 208 204 214 208 209 200 159 245 193 206 223\n",
      "  255 255 221 234 221 211 220 232 246   0]\n",
      " [  3 202 228 224 221 211 211 214 205 205 205 220 240  80 150 255 229 221\n",
      "  188 154 191 210 204 209 222 228 225   0]\n",
      " [ 98 233 198 210 222 229 229 234 249 220 194 215 217 241  65  73 106 117\n",
      "  168 219 221 215 217 223 223 224 229  29]\n",
      " [ 75 204 212 204 193 205 211 225 216 185 197 206 198 213 240 195 227 245\n",
      "  239 223 218 212 209 222 220 221 230  67]\n",
      " [ 48 203 183 194 213 197 185 190 194 192 202 214 219 221 220 236 225 216\n",
      "  199 206 186 181 177 172 181 205 206 115]\n",
      " [  0 122 219 193 179 171 183 196 204 210 213 207 211 210 200 196 194 191\n",
      "  195 191 198 192 176 156 167 177 210  92]\n",
      " [  0   0  74 189 212 191 175 172 175 181 185 188 189 188 193 198 204 209\n",
      "  210 210 211 188 188 194 192 216 170   0]\n",
      " [  2   0   0   0  66 200 222 237 239 242 246 243 244 221 220 193 191 179\n",
      "  182 182 181 176 166 168  99  58   0   0]\n",
      " [  0   0   0   0   0   0   0  40  61  44  72  41  35   0   0   0   0   0\n",
      "    0   0   0   0   0   0   0   0   0   0]\n",
      " [  0   0   0   0   0   0   0   0   0   0   0   0   0   0   0   0   0   0\n",
      "    0   0   0   0   0   0   0   0   0   0]\n",
      " [  0   0   0   0   0   0   0   0   0   0   0   0   0   0   0   0   0   0\n",
      "    0   0   0   0   0   0   0   0   0   0]]\n",
      "\n",
      "Training label:\n",
      "9\n",
      "\n"
     ]
    }
   ],
   "source": [
    "# Show the first training example\n",
    "print(f\"Training sample:\\n{train_data[0]}\\n\")\n",
    "print(f\"Training label:\\n{train_labels[0]}\\n\")"
   ]
  },
  {
   "cell_type": "code",
   "execution_count": 38,
   "metadata": {},
   "outputs": [
    {
     "data": {
      "text/plain": [
       "((28, 28), ())"
      ]
     },
     "execution_count": 38,
     "metadata": {},
     "output_type": "execute_result"
    }
   ],
   "source": [
    "# Check the shape of the single example\n",
    "train_data[0].shape, train_labels[0].shape"
   ]
  },
  {
   "cell_type": "code",
   "execution_count": 39,
   "metadata": {},
   "outputs": [
    {
     "data": {
      "image/png": "[encoded data removed]",
      "text/plain": [
       "<Figure size 432x288 with 1 Axes>"
      ]
     },
     "metadata": {
      "needs_background": "light"
     },
     "output_type": "display_data"
    }
   ],
   "source": [
    "# Plot a single sample\n",
    "plt.imshow(train_data[7]);"
   ]
  },
  {
   "cell_type": "code",
   "execution_count": 40,
   "metadata": {},
   "outputs": [
    {
     "data": {
      "text/plain": [
       "2"
      ]
     },
     "execution_count": 40,
     "metadata": {},
     "output_type": "execute_result"
    }
   ],
   "source": [
    "# Check out samples label\n",
    "train_labels[7]"
   ]
  },
  {
   "cell_type": "code",
   "execution_count": 41,
   "metadata": {},
   "outputs": [
    {
     "data": {
      "text/plain": [
       "10"
      ]
     },
     "execution_count": 41,
     "metadata": {},
     "output_type": "execute_result"
    }
   ],
   "source": [
    "# Create a small list so we can index onto our training labels so they're human-readble\n",
    "class_names =[\"T-shirt/top\", \"Trouser\", \"Pullover\", \"Dress\", \"Coat\", \"Sandal\", \"Shirt\", \"Sneaker\", \"Bag\", \"Ankle boot\"]\n",
    "\n",
    "len(class_names)"
   ]
  },
  {
   "cell_type": "code",
   "execution_count": 42,
   "metadata": {},
   "outputs": [
    {
     "data": {
      "text/plain": [
       "Text(0.5, 1.0, 'Bag')"
      ]
     },
     "execution_count": 42,
     "metadata": {},
     "output_type": "execute_result"
    },
    {
     "data": {
      "image/png": "[encoded data removed]",
      "text/plain": [
       "<Figure size 432x288 with 1 Axes>"
      ]
     },
     "metadata": {
      "needs_background": "light"
     },
     "output_type": "display_data"
    }
   ],
   "source": [
    "# Plot an example image and its label\n",
    "index_of_choice = 100\n",
    "plt.imshow(train_data[index_of_choice], cmap=plt.cm.binary)\n",
    "plt.title(class_names[train_labels[index_of_choice]])"
   ]
  },
  {
   "cell_type": "code",
   "execution_count": 43,
   "metadata": {},
   "outputs": [
    {
     "data": {
      "image/png": "[encoded data removed]",
      "text/plain": [
       "<Figure size 504x504 with 4 Axes>"
      ]
     },
     "metadata": {
      "needs_background": "light"
     },
     "output_type": "display_data"
    }
   ],
   "source": [
    "# Plot multiple random images of fashion MNIST\n",
    "import random\n",
    "plt.figure(figsize=(7, 7))\n",
    "for i in range(4):\n",
    "    ax = plt.subplot(2, 2, i+1)\n",
    "    rand_index = random.choice(range(len(train_data)))\n",
    "    plt.imshow(train_data[rand_index], cmap=plt.cm.binary)\n",
    "    plt.title(class_names[train_labels[rand_index]])\n",
    "    plt.axis(False)"
   ]
  },
  {
   "cell_type": "markdown",
   "metadata": {},
   "source": [
    "## Building a multi-class classification model\n",
    "\n",
    "For our multi-class classification model, we can use a similar architecture to our binary classifiers, however, we're going to have to tweak a few things:\n",
    "* Input shape = 28 x 28 (the shape of one image)\n",
    "* Output shape = 10 (one per class of clothing)\n",
    "* Loss function = `tf.keras.losses.CategoricalCrossentropy()`\n",
    "    * If your labels are one-hot encoded, use `CategoricalCrossentropy()`\n",
    "    * If your labels are nteger form use `SparseCategoricalCrossentropy()`\n",
    "* Output layer activation = Softmax (not Sigmoid)"
   ]
  },
  {
   "cell_type": "code",
   "execution_count": 49,
   "metadata": {},
   "outputs": [
    {
     "data": {
      "text/plain": [
       "(None, 784)"
      ]
     },
     "execution_count": 49,
     "metadata": {},
     "output_type": "execute_result"
    }
   ],
   "source": [
    "# our data needs to be flattened (from 28*28 to None, 784)\n",
    "\n",
    "flatten_model = tf.keras.Sequential([tf.keras.layers.Flatten(input_shape=(28,28))])\n",
    "flatten_model.output_shape"
   ]
  },
  {
   "cell_type": "code",
   "execution_count": 50,
   "metadata": {},
   "outputs": [
    {
     "data": {
      "text/plain": [
       "784"
      ]
     },
     "execution_count": 50,
     "metadata": {},
     "output_type": "execute_result"
    }
   ],
   "source": [
    "28 * 28"
   ]
  },
  {
   "cell_type": "code",
   "execution_count": 70,
   "metadata": {},
   "outputs": [],
   "source": [
    "# Building the model\n",
    "\n",
    "# Set random seed\n",
    "tf.random.set_seed(42)\n",
    "\n",
    "# 1. Create model\n",
    "model_13 = tf.keras.Sequential([\n",
    "    tf.keras.layers.Flatten(input_shape=(28, 28)),\n",
    "    tf.keras.layers.Dense(4, activation=\"relu\"),\n",
    "    tf.keras.layers.Dense(4, activation=\"relu\"),\n",
    "    tf.keras.layers.Dense(10, activation=\"softmax\")])"
   ]
  },
  {
   "cell_type": "code",
   "execution_count": 71,
   "metadata": {},
   "outputs": [],
   "source": [
    "# 2. Compile the model\n",
    "model_13.compile(loss=tf.keras.losses.CategoricalCrossentropy(),\n",
    "                optimizer=tf.keras.optimizers.Adam(),\n",
    "                metrics=tf.keras.metrics.Accuracy())"
   ]
  },
  {
   "cell_type": "code",
   "execution_count": 72,
   "metadata": {},
   "outputs": [
    {
     "name": "stdout",
     "output_type": "stream",
     "text": [
      "Epoch 1/10\n",
      "1875/1875 [==============================] - 5s 2ms/step - loss: 2.1629 - accuracy: 0.0073 - val_loss: 1.8070 - val_accuracy: 0.0303\n",
      "Epoch 2/10\n",
      "1875/1875 [==============================] - 4s 2ms/step - loss: 1.7039 - accuracy: 0.0311 - val_loss: 1.6755 - val_accuracy: 0.0560\n",
      "Epoch 3/10\n",
      "1875/1875 [==============================] - 4s 2ms/step - loss: 1.6331 - accuracy: 0.0517 - val_loss: 1.6065 - val_accuracy: 0.0546\n",
      "Epoch 4/10\n",
      "1875/1875 [==============================] - 4s 2ms/step - loss: 1.6032 - accuracy: 0.0592 - val_loss: 1.6056 - val_accuracy: 0.0598\n",
      "Epoch 5/10\n",
      "1875/1875 [==============================] - 4s 2ms/step - loss: 1.5975 - accuracy: 0.0619 - val_loss: 1.6016 - val_accuracy: 0.0794\n",
      "Epoch 6/10\n",
      "1875/1875 [==============================] - 4s 2ms/step - loss: 1.5913 - accuracy: 0.0728 - val_loss: 1.5698 - val_accuracy: 0.0559\n",
      "Epoch 7/10\n",
      "1875/1875 [==============================] - 4s 2ms/step - loss: 1.5738 - accuracy: 0.0593 - val_loss: 1.5715 - val_accuracy: 0.0576\n",
      "Epoch 8/10\n",
      "1875/1875 [==============================] - 4s 2ms/step - loss: 1.5696 - accuracy: 0.0653 - val_loss: 1.5614 - val_accuracy: 0.0752\n",
      "Epoch 9/10\n",
      "1875/1875 [==============================] - 4s 2ms/step - loss: 1.5665 - accuracy: 0.0689 - val_loss: 1.5607 - val_accuracy: 0.0593\n",
      "Epoch 10/10\n",
      "1875/1875 [==============================] - 4s 2ms/step - loss: 1.5560 - accuracy: 0.0630 - val_loss: 1.5665 - val_accuracy: 0.0754\n"
     ]
    }
   ],
   "source": [
    "# 3. Fit the model\n",
    "non_norm_history = model_13.fit(train_data,\n",
    "                               tf.one_hot(train_labels, depth=10),\n",
    "                               epochs=10,\n",
    "                               validation_data=(test_data, tf.one_hot(test_labels, depth=10)))"
   ]
  },
  {
   "cell_type": "code",
   "execution_count": 73,
   "metadata": {},
   "outputs": [
    {
     "name": "stdout",
     "output_type": "stream",
     "text": [
      "Model: \"sequential_10\"\n",
      "_________________________________________________________________\n",
      " Layer (type)                Output Shape              Param #   \n",
      "=================================================================\n",
      " flatten_10 (Flatten)        (None, 784)               0         \n",
      "                                                                 \n",
      " dense_33 (Dense)            (None, 4)                 3140      \n",
      "                                                                 \n",
      " dense_34 (Dense)            (None, 4)                 20        \n",
      "                                                                 \n",
      " dense_35 (Dense)            (None, 10)                50        \n",
      "                                                                 \n",
      "=================================================================\n",
      "Total params: 3,210\n",
      "Trainable params: 3,210\n",
      "Non-trainable params: 0\n",
      "_________________________________________________________________\n"
     ]
    }
   ],
   "source": [
    "# Check the model summary\n",
    "\n",
    "model_13.summary()"
   ]
  },
  {
   "cell_type": "code",
   "execution_count": 74,
   "metadata": {},
   "outputs": [
    {
     "data": {
      "text/plain": [
       "(0, 255)"
      ]
     },
     "execution_count": 74,
     "metadata": {},
     "output_type": "execute_result"
    }
   ],
   "source": [
    "# Check the min and max values of the training data\n",
    "\n",
    "train_data.min(), train_data.max()"
   ]
  },
  {
   "cell_type": "markdown",
   "metadata": {},
   "source": [
    "Neural networks prefer data to be scaled (or normalized), this means they like to have the numbers in the tensors they try to find patterns between 0 & 1."
   ]
  },
  {
   "cell_type": "code",
   "execution_count": 75,
   "metadata": {},
   "outputs": [
    {
     "data": {
      "text/plain": [
       "(0.0, 1.0)"
      ]
     },
     "execution_count": 75,
     "metadata": {},
     "output_type": "execute_result"
    }
   ],
   "source": [
    "# We can get our training and testing data between 0 $ 1 by dividing by te maximum\n",
    "\n",
    "train_data_norm = train_data / 255.0\n",
    "test_data_norm = test_data / 255.0\n",
    "\n",
    "# Check the min and max values of the scaled training data\n",
    "train_data_norm.min(), train_data_norm.max()"
   ]
  },
  {
   "cell_type": "code",
   "execution_count": 77,
   "metadata": {},
   "outputs": [
    {
     "name": "stdout",
     "output_type": "stream",
     "text": [
      "Epoch 1/10\n",
      "1875/1875 [==============================] - 12s 5ms/step - loss: 1.0348 - accuracy: 0.6474 - val_loss: 0.6937 - val_accuracy: 0.7617\n",
      "Epoch 2/10\n",
      "1875/1875 [==============================] - 11s 6ms/step - loss: 0.6376 - accuracy: 0.7757 - val_loss: 0.6400 - val_accuracy: 0.7820\n",
      "Epoch 3/10\n",
      "1875/1875 [==============================] - 13s 7ms/step - loss: 0.5942 - accuracy: 0.7914 - val_loss: 0.6247 - val_accuracy: 0.7783\n",
      "Epoch 4/10\n",
      "1875/1875 [==============================] - 15s 8ms/step - loss: 0.5750 - accuracy: 0.7979 - val_loss: 0.6078 - val_accuracy: 0.7881\n",
      "Epoch 5/10\n",
      "1875/1875 [==============================] - 14s 8ms/step - loss: 0.5641 - accuracy: 0.8006 - val_loss: 0.6169 - val_accuracy: 0.7881\n",
      "Epoch 6/10\n",
      "1875/1875 [==============================] - 14s 7ms/step - loss: 0.5544 - accuracy: 0.8043 - val_loss: 0.5855 - val_accuracy: 0.7951\n",
      "Epoch 7/10\n",
      "1875/1875 [==============================] - 15s 8ms/step - loss: 0.5488 - accuracy: 0.8063 - val_loss: 0.6097 - val_accuracy: 0.7836\n",
      "Epoch 8/10\n",
      "1875/1875 [==============================] - 15s 8ms/step - loss: 0.5428 - accuracy: 0.8077 - val_loss: 0.5787 - val_accuracy: 0.7971\n",
      "Epoch 9/10\n",
      "1875/1875 [==============================] - 15s 8ms/step - loss: 0.5373 - accuracy: 0.8097 - val_loss: 0.5698 - val_accuracy: 0.7977\n",
      "Epoch 10/10\n",
      "1875/1875 [==============================] - 15s 8ms/step - loss: 0.5360 - accuracy: 0.8124 - val_loss: 0.5658 - val_accuracy: 0.8014\n"
     ]
    }
   ],
   "source": [
    "# Train again model 13, but this time is normalized\n",
    "\n",
    "# Set the random seed\n",
    "tf.random.set_seed(42)\n",
    "\n",
    "# 1. Create the model\n",
    "model_14 = tf.keras.Sequential([\n",
    "    tf.keras.layers.Flatten(input_shape=(28,28)),\n",
    "    tf.keras.layers.Dense(4, activation = \"relu\"),\n",
    "    tf.keras.layers.Dense(4, activation = \"relu\"),\n",
    "    tf.keras.layers.Dense(10, activation =\"softmax\")\n",
    "])\n",
    "\n",
    "# 2. Compile the model\n",
    "model_14.compile(loss=tf.keras.losses.SparseCategoricalCrossentropy(),\n",
    "                optimizer=tf.keras.optimizers.Adam(),\n",
    "                metrics=[\"accuracy\"])\n",
    "\n",
    "# 3. Fit the model \n",
    "norm_histroy = model_14.fit(train_data_norm,\n",
    "                           train_labels,\n",
    "                           epochs=10,\n",
    "                           validation_data=(test_data_norm, test_labels))"
   ]
  },
  {
   "cell_type": "markdown",
   "metadata": {},
   "source": [
    "**Note:** Neural networks tend to prefer data in numerical form as well as scahled/normalized (numbers between 0 & 1)."
   ]
  },
  {
   "cell_type": "code",
   "execution_count": 78,
   "metadata": {},
   "outputs": [
    {
     "data": {
      "text/plain": [
       "<AxesSubplot:title={'center':'Normalized data'}>"
      ]
     },
     "execution_count": 78,
     "metadata": {},
     "output_type": "execute_result"
    },
    {
     "data": {
      "image/png": "[encoded data removed]",
      "text/plain": [
       "<Figure size 432x288 with 1 Axes>"
      ]
     },
     "metadata": {
      "needs_background": "light"
     },
     "output_type": "display_data"
    },
    {
     "data": {
      "image/png": "[encoded data removed]",
      "text/plain": [
       "<Figure size 432x288 with 1 Axes>"
      ]
     },
     "metadata": {
      "needs_background": "light"
     },
     "output_type": "display_data"
    }
   ],
   "source": [
    "# plot non-normalized data loss curves\n",
    "pd.DataFrame(non_norm_history.history).plot(title=\"Non-normalized data\")\n",
    "\n",
    "# Plot normalied data loss curves\n",
    "pd.DataFrame(norm_histroy.history).plot(title=\"Normalized data\")"
   ]
  },
  {
   "cell_type": "markdown",
   "metadata": {},
   "source": [
    "**Note:** The same model with even *slightly* different data can produce *dramatically* different results. So when your're compariing models, it's important to make sure your're comparing them on the same criteria (e.g. same architecture but different data **or** same data but different architecture.)"
   ]
  },
  {
   "cell_type": "markdown",
   "metadata": {},
   "source": [
    "## Finding the ideal learning rate"
   ]
  },
  {
   "cell_type": "code",
   "execution_count": 79,
   "metadata": {},
   "outputs": [
    {
     "name": "stdout",
     "output_type": "stream",
     "text": [
      "Epoch 1/40\n",
      "1875/1875 [==============================] - 15s 7ms/step - loss: 1.0348 - accuracy: 0.6474 - val_loss: 0.6937 - val_accuracy: 0.7617 - lr: 0.0010\n",
      "Epoch 2/40\n",
      "1875/1875 [==============================] - 11s 6ms/step - loss: 0.6366 - accuracy: 0.7759 - val_loss: 0.6400 - val_accuracy: 0.7808 - lr: 0.0011\n",
      "Epoch 3/40\n",
      "1875/1875 [==============================] - 13s 7ms/step - loss: 0.5934 - accuracy: 0.7911 - val_loss: 0.6278 - val_accuracy: 0.7770 - lr: 0.0013\n",
      "Epoch 4/40\n",
      "1875/1875 [==============================] - 14s 8ms/step - loss: 0.5749 - accuracy: 0.7969 - val_loss: 0.6122 - val_accuracy: 0.7871 - lr: 0.0014\n",
      "Epoch 5/40\n",
      "1875/1875 [==============================] - 13s 7ms/step - loss: 0.5655 - accuracy: 0.7987 - val_loss: 0.6061 - val_accuracy: 0.7913 - lr: 0.0016\n",
      "Epoch 6/40\n",
      "1875/1875 [==============================] - 12s 6ms/step - loss: 0.5569 - accuracy: 0.8022 - val_loss: 0.5917 - val_accuracy: 0.7940 - lr: 0.0018\n",
      "Epoch 7/40\n",
      "1875/1875 [==============================] - 14s 7ms/step - loss: 0.5542 - accuracy: 0.8036 - val_loss: 0.5898 - val_accuracy: 0.7896 - lr: 0.0020\n",
      "Epoch 8/40\n",
      "1875/1875 [==============================] - 14s 7ms/step - loss: 0.5509 - accuracy: 0.8039 - val_loss: 0.5829 - val_accuracy: 0.7949 - lr: 0.0022\n",
      "Epoch 9/40\n",
      "1875/1875 [==============================] - 12s 7ms/step - loss: 0.5468 - accuracy: 0.8047 - val_loss: 0.6036 - val_accuracy: 0.7833 - lr: 0.0025\n",
      "Epoch 10/40\n",
      "1875/1875 [==============================] - 8s 4ms/step - loss: 0.5478 - accuracy: 0.8058 - val_loss: 0.5736 - val_accuracy: 0.7974 - lr: 0.0028\n",
      "Epoch 11/40\n",
      "1875/1875 [==============================] - 13s 7ms/step - loss: 0.5446 - accuracy: 0.8059 - val_loss: 0.5672 - val_accuracy: 0.8016 - lr: 0.0032\n",
      "Epoch 12/40\n",
      "1875/1875 [==============================] - 11s 6ms/step - loss: 0.5432 - accuracy: 0.8067 - val_loss: 0.5773 - val_accuracy: 0.7950 - lr: 0.0035\n",
      "Epoch 13/40\n",
      "1875/1875 [==============================] - 13s 7ms/step - loss: 0.5425 - accuracy: 0.8056 - val_loss: 0.5775 - val_accuracy: 0.7992 - lr: 0.0040\n",
      "Epoch 14/40\n",
      "1875/1875 [==============================] - 13s 7ms/step - loss: 0.5407 - accuracy: 0.8078 - val_loss: 0.5616 - val_accuracy: 0.8075 - lr: 0.0045\n",
      "Epoch 15/40\n",
      "1875/1875 [==============================] - 12s 7ms/step - loss: 0.5408 - accuracy: 0.8052 - val_loss: 0.5773 - val_accuracy: 0.8039 - lr: 0.0050\n",
      "Epoch 16/40\n",
      "1875/1875 [==============================] - 12s 7ms/step - loss: 0.5437 - accuracy: 0.8058 - val_loss: 0.5682 - val_accuracy: 0.8015 - lr: 0.0056\n",
      "Epoch 17/40\n",
      "1875/1875 [==============================] - 12s 6ms/step - loss: 0.5419 - accuracy: 0.8075 - val_loss: 0.5995 - val_accuracy: 0.7964 - lr: 0.0063\n",
      "Epoch 18/40\n",
      "1875/1875 [==============================] - 13s 7ms/step - loss: 0.5488 - accuracy: 0.8058 - val_loss: 0.5544 - val_accuracy: 0.8087 - lr: 0.0071\n",
      "Epoch 19/40\n",
      "1875/1875 [==============================] - 13s 7ms/step - loss: 0.5506 - accuracy: 0.8042 - val_loss: 0.6068 - val_accuracy: 0.7864 - lr: 0.0079\n",
      "Epoch 20/40\n",
      "1875/1875 [==============================] - 8s 4ms/step - loss: 0.5537 - accuracy: 0.8030 - val_loss: 0.5597 - val_accuracy: 0.8076 - lr: 0.0089\n",
      "Epoch 21/40\n",
      "1875/1875 [==============================] - 8s 4ms/step - loss: 0.5572 - accuracy: 0.8036 - val_loss: 0.5998 - val_accuracy: 0.7934 - lr: 0.0100\n",
      "Epoch 22/40\n",
      "1875/1875 [==============================] - 12s 6ms/step - loss: 0.5615 - accuracy: 0.8013 - val_loss: 0.5756 - val_accuracy: 0.8034 - lr: 0.0112\n",
      "Epoch 23/40\n",
      "1875/1875 [==============================] - 12s 7ms/step - loss: 0.5655 - accuracy: 0.8017 - val_loss: 0.6386 - val_accuracy: 0.7668 - lr: 0.0126\n",
      "Epoch 24/40\n",
      "1875/1875 [==============================] - 14s 8ms/step - loss: 0.5819 - accuracy: 0.7963 - val_loss: 0.6356 - val_accuracy: 0.7869 - lr: 0.0141\n",
      "Epoch 25/40\n",
      "1875/1875 [==============================] - 15s 8ms/step - loss: 0.5810 - accuracy: 0.7977 - val_loss: 0.6481 - val_accuracy: 0.7865 - lr: 0.0158\n",
      "Epoch 26/40\n",
      "1875/1875 [==============================] - 15s 8ms/step - loss: 0.5960 - accuracy: 0.7901 - val_loss: 0.6997 - val_accuracy: 0.7802 - lr: 0.0178\n",
      "Epoch 27/40\n",
      "1875/1875 [==============================] - 15s 8ms/step - loss: 0.6101 - accuracy: 0.7870 - val_loss: 0.6124 - val_accuracy: 0.7917 - lr: 0.0200\n",
      "Epoch 28/40\n",
      "1875/1875 [==============================] - 14s 7ms/step - loss: 0.6178 - accuracy: 0.7846 - val_loss: 0.6137 - val_accuracy: 0.7962 - lr: 0.0224\n",
      "Epoch 29/40\n",
      "1875/1875 [==============================] - 12s 6ms/step - loss: 0.6357 - accuracy: 0.7771 - val_loss: 0.6655 - val_accuracy: 0.7621 - lr: 0.0251\n",
      "Epoch 30/40\n",
      "1875/1875 [==============================] - 13s 7ms/step - loss: 0.6664 - accuracy: 0.7674 - val_loss: 0.7274 - val_accuracy: 0.7455 - lr: 0.0282\n",
      "Epoch 31/40\n",
      "1875/1875 [==============================] - 13s 7ms/step - loss: 0.6794 - accuracy: 0.7602 - val_loss: 0.6666 - val_accuracy: 0.7635 - lr: 0.0316\n",
      "Epoch 32/40\n",
      "1875/1875 [==============================] - 6s 3ms/step - loss: 0.6982 - accuracy: 0.7570 - val_loss: 0.6881 - val_accuracy: 0.7725 - lr: 0.0355\n",
      "Epoch 33/40\n",
      "1875/1875 [==============================] - 12s 7ms/step - loss: 0.7382 - accuracy: 0.7498 - val_loss: 0.8728 - val_accuracy: 0.7469 - lr: 0.0398\n",
      "Epoch 34/40\n",
      "1875/1875 [==============================] - 12s 7ms/step - loss: 0.7895 - accuracy: 0.7354 - val_loss: 0.8187 - val_accuracy: 0.7032 - lr: 0.0447\n",
      "Epoch 35/40\n",
      "1875/1875 [==============================] - 13s 7ms/step - loss: 0.8269 - accuracy: 0.7200 - val_loss: 0.7793 - val_accuracy: 0.7443 - lr: 0.0501\n",
      "Epoch 36/40\n",
      "1875/1875 [==============================] - 13s 7ms/step - loss: 0.8933 - accuracy: 0.6954 - val_loss: 0.8017 - val_accuracy: 0.6941 - lr: 0.0562\n",
      "Epoch 37/40\n",
      "1875/1875 [==============================] - 12s 6ms/step - loss: 0.9831 - accuracy: 0.6504 - val_loss: 1.2130 - val_accuracy: 0.5856 - lr: 0.0631\n",
      "Epoch 38/40\n",
      "1875/1875 [==============================] - 12s 6ms/step - loss: 1.3290 - accuracy: 0.4337 - val_loss: 1.3063 - val_accuracy: 0.4394 - lr: 0.0708\n",
      "Epoch 39/40\n",
      "1875/1875 [==============================] - 14s 7ms/step - loss: 1.5831 - accuracy: 0.3277 - val_loss: 1.5362 - val_accuracy: 0.3530 - lr: 0.0794\n",
      "Epoch 40/40\n",
      "1875/1875 [==============================] - 11s 6ms/step - loss: 1.5216 - accuracy: 0.3572 - val_loss: 1.6956 - val_accuracy: 0.2979 - lr: 0.0891\n"
     ]
    }
   ],
   "source": [
    "# Set random seed\n",
    "tf.random.set_seed(42)\n",
    "\n",
    "# 1. Create the model\n",
    "model_15 = tf.keras.Sequential([\n",
    "    tf.keras.layers.Flatten(input_shape=(28,28)),\n",
    "    tf.keras.layers.Dense(4, activation=\"relu\"),\n",
    "    tf.keras.layers.Dense(4, activation=\"relu\"),\n",
    "    tf.keras.layers.Dense(10, activation=\"softmax\")\n",
    "])\n",
    "\n",
    "# 2. Compile the model\n",
    "model_15.compile(loss=tf.keras.losses.SparseCategoricalCrossentropy(),\n",
    "                optimizer=tf.keras.optimizers.Adam(),\n",
    "                metrics=[\"accuracy\"])\n",
    "\n",
    "# Create the learning rate callback\n",
    "lr_scheduler = tf.keras.callbacks.LearningRateScheduler(lambda epoch: 1e-3 * 10**(epoch/20))\n",
    "\n",
    "# 3. Fit the model\n",
    "find_lr_history = model_15.fit(train_data_norm,\n",
    "                      train_labels,\n",
    "                      epochs=40,\n",
    "                      validation_data=(test_data_norm, test_labels),\n",
    "                      callbacks=[lr_scheduler])"
   ]
  },
  {
   "cell_type": "code",
   "execution_count": 81,
   "metadata": {},
   "outputs": [
    {
     "data": {
      "text/plain": [
       "Text(0.5, 1.0, 'Finding the ideal learning rate')"
      ]
     },
     "execution_count": 81,
     "metadata": {},
     "output_type": "execute_result"
    },
    {
     "data": {
      "image/png": "[encoded data removed]",
      "text/plain": [
       "<Figure size 432x288 with 1 Axes>"
      ]
     },
     "metadata": {
      "needs_background": "light"
     },
     "output_type": "display_data"
    }
   ],
   "source": [
    "# Plot the learning rate decay curve\n",
    "\n",
    "lrs = 1e-3 * (10**(tf.range(40)/20))\n",
    "plt.semilogx(lrs, find_lr_history.history[\"loss\"])\n",
    "plt.xlabel(\"Learning rate\")\n",
    "plt.ylabel(\"Loss\")\n",
    "plt.title(\"Finding the ideal learning rate\")"
   ]
  },
  {
   "cell_type": "code",
   "execution_count": 82,
   "metadata": {},
   "outputs": [
    {
     "name": "stderr",
     "output_type": "stream",
     "text": [
      "c:\\users\\ovidi\\projects\\ibmqx\\qiskit\\lib\\site-packages\\keras\\optimizers\\optimizer_v2\\adam.py:110: UserWarning: The `lr` argument is deprecated, use `learning_rate` instead.\n",
      "  super(Adam, self).__init__(name, **kwargs)\n"
     ]
    },
    {
     "name": "stdout",
     "output_type": "stream",
     "text": [
      "Epoch 1/20\n",
      "1875/1875 [==============================] - 14s 7ms/step - loss: 1.0286 - accuracy: 0.6631 - val_loss: 0.7823 - val_accuracy: 0.7399\n",
      "Epoch 2/20\n",
      "1875/1875 [==============================] - 13s 7ms/step - loss: 0.7339 - accuracy: 0.7486 - val_loss: 0.7267 - val_accuracy: 0.7541\n",
      "Epoch 3/20\n",
      "1875/1875 [==============================] - 12s 7ms/step - loss: 0.6805 - accuracy: 0.7617 - val_loss: 0.7010 - val_accuracy: 0.7590\n",
      "Epoch 4/20\n",
      "1875/1875 [==============================] - 14s 8ms/step - loss: 0.6555 - accuracy: 0.7685 - val_loss: 0.6713 - val_accuracy: 0.7667\n",
      "Epoch 5/20\n",
      "1875/1875 [==============================] - 10s 6ms/step - loss: 0.6375 - accuracy: 0.7742 - val_loss: 0.6683 - val_accuracy: 0.7670\n",
      "Epoch 6/20\n",
      "1875/1875 [==============================] - 12s 6ms/step - loss: 0.6223 - accuracy: 0.7790 - val_loss: 0.6601 - val_accuracy: 0.7729\n",
      "Epoch 7/20\n",
      "1875/1875 [==============================] - 11s 6ms/step - loss: 0.6140 - accuracy: 0.7828 - val_loss: 0.6549 - val_accuracy: 0.7728\n",
      "Epoch 8/20\n",
      "1875/1875 [==============================] - 12s 6ms/step - loss: 0.6056 - accuracy: 0.7856 - val_loss: 0.6564 - val_accuracy: 0.7731\n",
      "Epoch 9/20\n",
      "1875/1875 [==============================] - 8s 4ms/step - loss: 0.5974 - accuracy: 0.7888 - val_loss: 0.6378 - val_accuracy: 0.7770\n",
      "Epoch 10/20\n",
      "1875/1875 [==============================] - 11s 6ms/step - loss: 0.5936 - accuracy: 0.7897 - val_loss: 0.6423 - val_accuracy: 0.7752\n",
      "Epoch 11/20\n",
      "1875/1875 [==============================] - 13s 7ms/step - loss: 0.5868 - accuracy: 0.7922 - val_loss: 0.6292 - val_accuracy: 0.7793\n",
      "Epoch 12/20\n",
      "1875/1875 [==============================] - 13s 7ms/step - loss: 0.5824 - accuracy: 0.7938 - val_loss: 0.6360 - val_accuracy: 0.7770\n",
      "Epoch 13/20\n",
      "1875/1875 [==============================] - 11s 6ms/step - loss: 0.5793 - accuracy: 0.7940 - val_loss: 0.6169 - val_accuracy: 0.7829\n",
      "Epoch 14/20\n",
      "1875/1875 [==============================] - 11s 6ms/step - loss: 0.5728 - accuracy: 0.7963 - val_loss: 0.6194 - val_accuracy: 0.7841\n",
      "Epoch 15/20\n",
      "1875/1875 [==============================] - 11s 6ms/step - loss: 0.5706 - accuracy: 0.7963 - val_loss: 0.6126 - val_accuracy: 0.7861\n",
      "Epoch 16/20\n",
      "1875/1875 [==============================] - 11s 6ms/step - loss: 0.5674 - accuracy: 0.7983 - val_loss: 0.6138 - val_accuracy: 0.7861\n",
      "Epoch 17/20\n",
      "1875/1875 [==============================] - 13s 7ms/step - loss: 0.5654 - accuracy: 0.7994 - val_loss: 0.6210 - val_accuracy: 0.7789\n",
      "Epoch 18/20\n",
      "1875/1875 [==============================] - 12s 7ms/step - loss: 0.5628 - accuracy: 0.7997 - val_loss: 0.6016 - val_accuracy: 0.7858\n",
      "Epoch 19/20\n",
      "1875/1875 [==============================] - 12s 6ms/step - loss: 0.5600 - accuracy: 0.7995 - val_loss: 0.6173 - val_accuracy: 0.7809\n",
      "Epoch 20/20\n",
      "1875/1875 [==============================] - 13s 7ms/step - loss: 0.5579 - accuracy: 0.8007 - val_loss: 0.6169 - val_accuracy: 0.7843\n"
     ]
    }
   ],
   "source": [
    "# Let's refit a model with the ideal learning rate\n",
    "\n",
    "#  Set random seed\n",
    "tf.random.set_seed(42)\n",
    "\n",
    "# 1. Create the model\n",
    "model_16 = tf.keras.Sequential([\n",
    "    tf.keras.layers.Flatten(input_shape=(28,28)),\n",
    "    tf.keras.layers.Dense(4, activation=\"relu\"),\n",
    "    tf.keras.layers.Dense(4, activation=\"relu\"),\n",
    "    tf.keras.layers.Dense(10, activation=\"softmax\")\n",
    "])\n",
    "\n",
    "# 2. Compile the model\n",
    "model_16.compile(loss=tf.keras.losses.SparseCategoricalCrossentropy(),\n",
    "                optimizer=tf.keras.optimizers.Adam(lr=0.002),\n",
    "                metrics=[\"accuracy\"])\n",
    "\n",
    "# 3. Fit the model\n",
    "history_16 = model_16.fit(train_data_norm,\n",
    "                      train_labels,\n",
    "                      epochs=20,\n",
    "                      validation_data=(test_data_norm, test_labels))"
   ]
  },
  {
   "cell_type": "markdown",
   "metadata": {},
   "source": [
    "## Evaluating our multi-class classification model\n",
    "\n",
    "To evaluate our multi-class classification model we could:\n",
    "* Evaluate its performance using other classification metrics (such as a confusion matrix)\n",
    "* Assess some of its predictions (through visualisation)\n",
    "* Improve its results (by training it for longer or changing the architecture)\n",
    "* Save and explore it for use in an application\n",
    "\n",
    "Let's go through the top 2 ..."
   ]
  },
  {
   "cell_type": "code",
   "execution_count": 83,
   "metadata": {},
   "outputs": [],
   "source": [
    "# Create a confusion matrix function\n",
    "import itertools\n",
    "from sklearn.metrics import confusion_matrix\n",
    "\n",
    "def make_confusion_matrix(y_true, y_pred, classes=None, figsize=(10, 10), text_size=15):\n",
    "\n",
    "    # Create the confusion metrix\n",
    "\n",
    "    cm = confusion_matrix(y_true, y_pred)\n",
    "    cm_norm = cm.astype(\"float\") / cm.sum(axis=1)[:, np.newaxis] # normalize our confusion matrix\n",
    "    n_classes = cm.shape[0]\n",
    "\n",
    "    # Better figure\n",
    "    fig, ax = plt.subplots(figsize=figsize)\n",
    "    # Create a matrix plot\n",
    "    cax = ax.matshow(cm, cmap=plt.cm.Blues)\n",
    "    fig.colorbar(cax)\n",
    "\n",
    "    # Set labels to be classes\n",
    "    if classes:\n",
    "        labels = classes\n",
    "    else:\n",
    "        labels = np.arange(cm.shape[0])\n",
    "\n",
    "    # label the axes\n",
    "    ax.set(title=\"Confusion Matrix\",\n",
    "          xlabel = \"Predicted Label\",\n",
    "          ylabel = \"True Label\",\n",
    "          xticks = np.arange(n_classes),\n",
    "          yticks = np.arange(n_classes),\n",
    "          xticklabels = labels,\n",
    "          yticklabels = labels)\n",
    "\n",
    "    # Set x-axis label to bottom\n",
    "    ax.xaxis.set_label_position(\"bottom\")\n",
    "    ax.xaxis.tick_bottom()\n",
    "\n",
    "    # Adjust label size\n",
    "    ax.yaxis.label.set_size(text_size)\n",
    "    ax.xaxis.label.set_size(text_size)\n",
    "    ax.title.set_size(text_size)\n",
    "\n",
    "    # Set threshold for different colors\n",
    "    threshold = (cm.max() + cm.min()) / 2.\n",
    "\n",
    "    # Plot the text on each cell\n",
    "    for i, j in itertools.product(range(cm.shape[0]), range(cm.shape[1])):\n",
    "        plt.text(j, i, f\"{cm[i, j]} ({cm_norm[i, j]*100:.1f}%)\",\n",
    "                horizontalalignment=\"center\",\n",
    "                color= \"white\" if cm[i, j] > threshold else \"black\",\n",
    "                size=text_size)"
   ]
  },
  {
   "cell_type": "code",
   "execution_count": 84,
   "metadata": {},
   "outputs": [
    {
     "data": {
      "text/plain": [
       "['T-shirt/top',\n",
       " 'Trouser',\n",
       " 'Pullover',\n",
       " 'Dress',\n",
       " 'Coat',\n",
       " 'Sandal',\n",
       " 'Shirt',\n",
       " 'Sneaker',\n",
       " 'Bag',\n",
       " 'Ankle boot']"
      ]
     },
     "execution_count": 84,
     "metadata": {},
     "output_type": "execute_result"
    }
   ],
   "source": [
    "class_names"
   ]
  },
  {
   "cell_type": "code",
   "execution_count": 88,
   "metadata": {},
   "outputs": [
    {
     "name": "stdout",
     "output_type": "stream",
     "text": [
      "313/313 [==============================] - 0s 1ms/step\n"
     ]
    },
    {
     "data": {
      "text/plain": [
       "array([[2.6798383e-05, 4.1994865e-23, 5.3758651e-09, 6.4775650e-11,\n",
       "        2.2152943e-10, 4.7423467e-02, 6.6337352e-06, 2.3773775e-01,\n",
       "        4.5434394e-06, 7.1480083e-01],\n",
       "       [4.0451559e-07, 1.6188236e-13, 9.8356342e-01, 6.3144555e-12,\n",
       "        1.2388914e-02, 2.9828209e-17, 3.6301222e-03, 6.4525598e-15,\n",
       "        4.1699928e-04, 1.1228151e-22],\n",
       "       [3.8795630e-03, 9.7660089e-01, 2.4876639e-04, 1.8112844e-02,\n",
       "        2.2239565e-05, 4.3499931e-06, 1.1085054e-03, 3.6326526e-08,\n",
       "        2.2921160e-05, 4.7223858e-10],\n",
       "       [3.8795630e-03, 9.7660089e-01, 2.4876639e-04, 1.8112844e-02,\n",
       "        2.2239565e-05, 4.3499931e-06, 1.1085054e-03, 3.6326526e-08,\n",
       "        2.2921160e-05, 4.7223858e-10],\n",
       "       [9.5143519e-02, 1.2842314e-03, 3.8589996e-01, 3.9515370e-03,\n",
       "        2.6380952e-02, 6.1832037e-07, 4.7955170e-01, 5.4963216e-08,\n",
       "        7.7874637e-03, 2.3460600e-11]], dtype=float32)"
      ]
     },
     "execution_count": 88,
     "metadata": {},
     "output_type": "execute_result"
    }
   ],
   "source": [
    "# Make some predictions with our model\n",
    "y_probs = model_16.predict(test_data_norm) # probs is short for prediction probabilites\n",
    "\n",
    "# View the first 5 predictions\n",
    "y_probs[:5]"
   ]
  },
  {
   "cell_type": "markdown",
   "metadata": {},
   "source": [
    "**Note:** Remember to make predictions on the same kind of data your model was trained on (e.g., if your model was trained on normalized data, you'll want to make predictions on normalized data)."
   ]
  },
  {
   "cell_type": "code",
   "execution_count": 90,
   "metadata": {},
   "outputs": [
    {
     "data": {
      "text/plain": [
       "(array([2.6798383e-05, 4.1994865e-23, 5.3758651e-09, 6.4775650e-11,\n",
       "        2.2152943e-10, 4.7423467e-02, 6.6337352e-06, 2.3773775e-01,\n",
       "        4.5434394e-06, 7.1480083e-01], dtype=float32),\n",
       " <tf.Tensor: shape=(), dtype=int64, numpy=9>,\n",
       " 'Ankle boot')"
      ]
     },
     "execution_count": 90,
     "metadata": {},
     "output_type": "execute_result"
    }
   ],
   "source": [
    "y_probs[0], tf.argmax(y_probs[0]), class_names[tf.argmax(y_probs[0])]"
   ]
  },
  {
   "cell_type": "code",
   "execution_count": 91,
   "metadata": {},
   "outputs": [
    {
     "data": {
      "text/plain": [
       "array([9, 2, 1, 1, 6, 1, 4, 6, 5, 7], dtype=int64)"
      ]
     },
     "execution_count": 91,
     "metadata": {},
     "output_type": "execute_result"
    }
   ],
   "source": [
    "# Convert all of the prediciton probabilities into integers\n",
    "y_preds = y_probs.argmax(axis=1)\n",
    "\n",
    "# View the first 10 predictions labels\n",
    "y_preds[:10]"
   ]
  },
  {
   "cell_type": "code",
   "execution_count": 93,
   "metadata": {},
   "outputs": [
    {
     "data": {
      "text/plain": [
       "array([9, 2, 1, ..., 8, 1, 5], dtype=uint8)"
      ]
     },
     "execution_count": 93,
     "metadata": {},
     "output_type": "execute_result"
    }
   ],
   "source": [
    "test_labels"
   ]
  },
  {
   "cell_type": "code",
   "execution_count": 94,
   "metadata": {},
   "outputs": [
    {
     "data": {
      "text/plain": [
       "array([[684,   0,  26, 111,   4,   1, 157,   2,  15,   0],\n",
       "       [  9, 900,   3,  67,   3,   0,  17,   0,   1,   0],\n",
       "       [ 14,   0, 715,   8, 121,   1, 132,   0,   9,   0],\n",
       "       [ 12,  10,   8, 791,  40,   0, 130,   0,   9,   0],\n",
       "       [  1,   0, 156,  34, 708,   0,  88,   0,  13,   0],\n",
       "       [  1,   0,   0,   0,   0, 876,   0,  52,  12,  59],\n",
       "       [107,   0, 171,  70, 246,   1, 383,   0,  22,   0],\n",
       "       [  0,   0,   0,   0,   0,  31,   0, 928,   4,  37],\n",
       "       [  2,   0,  18,  11,  11,   2,   8,  13, 934,   1],\n",
       "       [  1,   0,   0,   0,   0,  11,   0,  64,   0, 924]], dtype=int64)"
      ]
     },
     "execution_count": 94,
     "metadata": {},
     "output_type": "execute_result"
    }
   ],
   "source": [
    "from sklearn.metrics import confusion_matrix\n",
    "confusion_matrix(y_true= test_labels,\n",
    "                y_pred=y_preds)"
   ]
  },
  {
   "cell_type": "code",
   "execution_count": 98,
   "metadata": {},
   "outputs": [
    {
     "data": {
      "image/png": "[encoded data removed]",
      "text/plain": [
       "<Figure size 1296x1296 with 2 Axes>"
      ]
     },
     "metadata": {
      "needs_background": "light"
     },
     "output_type": "display_data"
    }
   ],
   "source": [
    "# Make a prettier confusion matrix\n",
    "make_confusion_matrix(y_true=test_labels,\n",
    "                     y_pred=y_preds,\n",
    "                     classes=class_names,\n",
    "                     figsize=(18,18),\n",
    "                     text_size=10)"
   ]
  },
  {
   "cell_type": "markdown",
   "metadata": {},
   "source": [
    "**Note:** Often when working with images and other forms of visual data, it's a good idea to visualize as much as possible to develop a further understanding of the data and inputs and outputs of your models.\n",
    "\n",
    "How about we create a fun little function for:\n",
    "* Plot a random image\n",
    "* Make a prediction on said image\n",
    "* Label the plot with the truth label & the predicted label"
   ]
  },
  {
   "cell_type": "code",
   "execution_count": 99,
   "metadata": {},
   "outputs": [],
   "source": [
    "import random\n",
    "\n",
    "def plot_random_image(model, images, true_labels, classes):\n",
    "    \"\"\"Picks a random image, plots it and labels it with a prediction and truth label.\"\"\"\n",
    "    # Set up random integer\n",
    "    i = random.randint(0, len(images))\n",
    "    \n",
    "    # Create predictions and targets\n",
    "    target_image = images[i]\n",
    "    pred_probs = model.predict(target_image.reshape(1, 28, 28))\n",
    "    pred_label = classes[pred_probs.argmax()]\n",
    "    true_label = classes[true_labels[i]]\n",
    "    \n",
    "    # Plot the image\n",
    "    plt.imshow(target_image, cmap=plt.cm.binary)\n",
    "    \n",
    "    # Change the color of the titles depending on if the prediction is right or wrong\n",
    "    if pred_label == true_label:\n",
    "        color=\"green\"\n",
    "    else:\n",
    "        color=\"red\"\n",
    "        \n",
    "    # Add xlabel information (prediction/true label)\n",
    "    plt.xlabel(\"Pred: {} {:2.0f}% (True: {})\".format(pred_label,\n",
    "                                                    100*tf.reduce_max(pred_probs),\n",
    "                                                    true_label),\n",
    "              color=color) # set the color to green or red based on if prediction is right or wrong\n",
    "    \n",
    "    "
   ]
  },
  {
   "cell_type": "code",
   "execution_count": 104,
   "metadata": {},
   "outputs": [
    {
     "name": "stdout",
     "output_type": "stream",
     "text": [
      "1/1 [==============================] - 0s 45ms/step\n"
     ]
    },
    {
     "data": {
      "image/png": "[encoded data removed]",
      "text/plain": [
       "<Figure size 432x288 with 1 Axes>"
      ]
     },
     "metadata": {
      "needs_background": "light"
     },
     "output_type": "display_data"
    }
   ],
   "source": [
    "# Check out a random image as well as its prediction\n",
    "\n",
    "plot_random_image(model=model_16,\n",
    "                 images=test_data_norm,\n",
    "                 true_labels=test_labels,\n",
    "                 classes=class_names)"
   ]
  },
  {
   "cell_type": "markdown",
   "metadata": {},
   "source": [
    "## What patterns is our model learning?"
   ]
  },
  {
   "cell_type": "code",
   "execution_count": 105,
   "metadata": {},
   "outputs": [
    {
     "data": {
      "text/plain": [
       "[<keras.layers.reshaping.flatten.Flatten at 0x206a45d8080>,\n",
       " <keras.layers.core.dense.Dense at 0x206a45d8eb8>,\n",
       " <keras.layers.core.dense.Dense at 0x206aa1325f8>,\n",
       " <keras.layers.core.dense.Dense at 0x206a45e29b0>]"
      ]
     },
     "execution_count": 105,
     "metadata": {},
     "output_type": "execute_result"
    }
   ],
   "source": [
    "# Find the layers of our most recent model\n",
    "model_16.layers"
   ]
  },
  {
   "cell_type": "code",
   "execution_count": 106,
   "metadata": {},
   "outputs": [
    {
     "data": {
      "text/plain": [
       "<keras.layers.core.dense.Dense at 0x206a45d8eb8>"
      ]
     },
     "execution_count": 106,
     "metadata": {},
     "output_type": "execute_result"
    }
   ],
   "source": [
    "# Extract a particular layer\n",
    "model_16.layers[1]"
   ]
  },
  {
   "cell_type": "code",
   "execution_count": 107,
   "metadata": {},
   "outputs": [
    {
     "data": {
      "text/plain": [
       "(array([[ 0.0287192 , -0.142935  , -0.5580195 , -0.15715167],\n",
       "        [ 0.4310247 ,  0.5894509 , -0.9410706 ,  1.1809889 ],\n",
       "        [-0.25782204,  1.2135735 , -1.1449969 , -0.01333491],\n",
       "        ...,\n",
       "        [ 0.9264444 ,  0.62799954, -0.37683886,  0.69162154],\n",
       "        [ 0.9672661 ,  0.8073854 , -0.10562594, -0.3712014 ],\n",
       "        [-0.6306353 ,  1.29591   , -1.4492764 , -0.45358393]],\n",
       "       dtype=float32),\n",
       " (784, 4))"
      ]
     },
     "execution_count": 107,
     "metadata": {},
     "output_type": "execute_result"
    }
   ],
   "source": [
    "# Get the partterns of a layer in our network\n",
    "weights, biases = model_16.layers[1].get_weights()\n",
    "\n",
    "# Shapes\n",
    "weights, weights.shape"
   ]
  },
  {
   "cell_type": "markdown",
   "metadata": {},
   "source": [
    "Now let's check out the bias vector ..."
   ]
  },
  {
   "cell_type": "code",
   "execution_count": 109,
   "metadata": {},
   "outputs": [
    {
     "data": {
      "text/plain": [
       "(array([1.7672014, 3.0625284, 3.6039205, 2.9277337], dtype=float32), (4,))"
      ]
     },
     "execution_count": 109,
     "metadata": {},
     "output_type": "execute_result"
    }
   ],
   "source": [
    "# Bias and biasses shapes\n",
    "biases, biases.shape"
   ]
  },
  {
   "cell_type": "markdown",
   "metadata": {},
   "source": [
    "Every neuron has a bias vector. Each of these is paired with a weights matrix.\n",
    "\n",
    "The bias vector get initialized as zeros (at least in the case of a TensorFlow Dense layer).\n",
    "\n",
    "The bias vector dictates how much the patterns within the corresponding weights matrix should influence the next layer."
   ]
  },
  {
   "cell_type": "code",
   "execution_count": 110,
   "metadata": {},
   "outputs": [
    {
     "name": "stdout",
     "output_type": "stream",
     "text": [
      "Model: \"sequential_13\"\n",
      "_________________________________________________________________\n",
      " Layer (type)                Output Shape              Param #   \n",
      "=================================================================\n",
      " flatten_13 (Flatten)        (None, 784)               0         \n",
      "                                                                 \n",
      " dense_42 (Dense)            (None, 4)                 3140      \n",
      "                                                                 \n",
      " dense_43 (Dense)            (None, 4)                 20        \n",
      "                                                                 \n",
      " dense_44 (Dense)            (None, 10)                50        \n",
      "                                                                 \n",
      "=================================================================\n",
      "Total params: 3,210\n",
      "Trainable params: 3,210\n",
      "Non-trainable params: 0\n",
      "_________________________________________________________________\n"
     ]
    }
   ],
   "source": [
    "model_16.summary()"
   ]
  },
  {
   "cell_type": "code",
   "execution_count": 111,
   "metadata": {},
   "outputs": [
    {
     "data": {
      "image/png": "[encoded data removed]",
      "text/plain": [
       "<IPython.core.display.Image object>"
      ]
     },
     "execution_count": 111,
     "metadata": {},
     "output_type": "execute_result"
    }
   ],
   "source": [
    "# let's check out another way of viewing our deep learning models\n",
    "from tensorflow.keras.utils import plot_model\n",
    "\n",
    "# See the inputs and outputs of each layer\n",
    "plot_model(model_16, show_shapes= True)"
   ]
  },
  {
   "cell_type": "code",
   "execution_count": null,
   "metadata": {},
   "outputs": [],
   "source": []
  }
 ],
 "metadata": {
  "kernelspec": {
   "display_name": "Python 3",
   "language": "python",
   "name": "python3"
  },
  "language_info": {
   "codemirror_mode": {
    "name": "ipython",
    "version": 3
   },
   "file_extension": ".py",
   "mimetype": "text/x-python",
   "name": "python",
   "nbconvert_exporter": "python",
   "pygments_lexer": "ipython3",
   "version": "3.7.3"
  }
 },
 "nbformat": 4,
 "nbformat_minor": 4
}
